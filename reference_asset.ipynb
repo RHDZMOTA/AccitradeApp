{
 "cells": [
  {
   "cell_type": "markdown",
   "metadata": {},
   "source": [
    "# Replicate reference asset\n",
    "\n",
    "By: Rodrigo Hernández Mota"
   ]
  },
  {
   "cell_type": "markdown",
   "metadata": {},
   "source": [
    "In this notebook a procedure for replicate a given financial asset is given. "
   ]
  },
  {
   "cell_type": "code",
   "execution_count": 14,
   "metadata": {
    "collapsed": true
   },
   "outputs": [],
   "source": [
    "# Import libraries\n",
    "% matplotlib inline\n",
    "\n",
    "import datetime as dt\n",
    "import numpy as np\n",
    "import pandas as pd\n",
    "import time \n",
    "\n",
    "from trading_session import * \n",
    "from financial_series.everything import * \n",
    "from financial_series.stationary_test import adf\n",
    "from metallic_blue_lizard.neural_net import adaline"
   ]
  },
  {
   "cell_type": "markdown",
   "metadata": {},
   "source": [
    "# Download prices"
   ]
  },
  {
   "cell_type": "markdown",
   "metadata": {},
   "source": [
    "The time range is from ... "
   ]
  },
  {
   "cell_type": "code",
   "execution_count": 2,
   "metadata": {
    "collapsed": true
   },
   "outputs": [],
   "source": [
    "# Determine time-range\n",
    "_from, _to = '2016/01/01', dt.datetime.strftime(dt.datetime.now(),'%Y/%m/%d')"
   ]
  },
  {
   "cell_type": "markdown",
   "metadata": {},
   "source": [
    "We proceed to download the information of the available stocks. "
   ]
  },
  {
   "cell_type": "code",
   "execution_count": 3,
   "metadata": {
    "collapsed": false
   },
   "outputs": [
    {
     "name": "stdout",
     "output_type": "stream",
     "text": [
      "['AC', 'ALFA.A', 'ALSEA', 'AMX.L', 'ASUR.B', 'BIMBO.A', 'CEMEX.CPO', 'ELEKTRA', 'FEMSA.UBD', 'GAP.B', 'GCARSO.A1', 'GENTERA', 'GFINBUR.O', 'GFNORTE.O', 'GFREGIO.O', 'GMEXICO.B', 'GRUMA.B', 'ICA', 'ICH.B', 'IENOVA', 'KIMBER.A', 'KOF.L', 'LAB.B', 'LACOMER.UBC', 'LALA.B', 'LIVEPOL.C1', 'MEXCHEM', 'NAFTRAC.ISHRS', 'NEMAK.A', 'OHLMEX', 'OMA.B', 'PENOLES', 'PINFRA', 'SANMEX.B', 'SIMEC.B', 'TLEVISA.CPO', 'WALMEX']\n"
     ]
    }
   ],
   "source": [
    "# Get available stocks\n",
    "\n",
    "# create instance of TradingSession object \n",
    "ts = TradingSession(user='sd8892',pw='Mexico0r',alias='Trading Session')\n",
    "\n",
    "# query available stocks \n",
    "available_stocks = ts.getOptions()\n",
    "print(available_stocks)\n",
    "\n",
    "# close session\n",
    "ts.close()\n"
   ]
  },
  {
   "cell_type": "code",
   "execution_count": 4,
   "metadata": {
    "collapsed": true
   },
   "outputs": [],
   "source": [
    "available_stocks = [i for i in available_stocks if i != 'NAFTRAC.ISHRS']"
   ]
  },
  {
   "cell_type": "code",
   "execution_count": 5,
   "metadata": {
    "collapsed": false,
    "scrolled": true
   },
   "outputs": [
    {
     "name": "stdout",
     "output_type": "stream",
     "text": [
      "\n",
      "- Downloading data: AC.MX : (MXN) Done.\n",
      "\n",
      "- Downloading data: ALFAA.MX : (MXN) Done.\n",
      "\n",
      "- Downloading data: ALSEA.MX : (MXN) Done.\n",
      "\n",
      "- Downloading data: AMXL.MX : (MXN) Done.\n",
      "\n",
      "- Downloading data: ASURB.MX : (MXN) Done.\n",
      "\n",
      "- Downloading data: BIMBOA.MX : (MXN) Done.\n",
      "\n",
      "- Downloading data: CEMEXCPO.MX : (MXN) Done.\n",
      "\n",
      "- Downloading data: ELEKTRA.MX : (MXN) Done.\n",
      "\n",
      "- Downloading data: FEMSAUBD.MX : (MXN) \n",
      "\t>> Error: cannot download data: FEMSAUBD.MX : (MXN)\n",
      "\n",
      "\n",
      "- Downloading data: GAPB.MX : (MXN) Done.\n",
      "\n",
      "- Downloading data: GCARSOA1.MX : (MXN) Done.\n",
      "\n",
      "- Downloading data: GENTERA.MX : (MXN) Done.\n",
      "\n",
      "- Downloading data: GFINBURO.MX : (MXN) Done.\n",
      "\n",
      "- Downloading data: GFNORTEO.MX : (MXN) Done.\n",
      "\n",
      "- Downloading data: GFREGIOO.MX : (MXN) Done.\n",
      "\n",
      "- Downloading data: GMEXICOB.MX : (MXN) Done.\n",
      "\n",
      "- Downloading data: GRUMAB.MX : (MXN) Done.\n",
      "\n",
      "- Downloading data: ICA.MX : (MXN) Done.\n",
      "\n",
      "- Downloading data: ICHB.MX : (MXN) Done.\n",
      "\n",
      "- Downloading data: IENOVA.MX : (MXN) Done.\n",
      "\n",
      "- Downloading data: KIMBERA.MX : (MXN) Done.\n",
      "\n",
      "- Downloading data: KOFL.MX : (MXN) Done.\n",
      "\n",
      "- Downloading data: LABB.MX : (MXN) Done.\n",
      "\n",
      "- Downloading data: LACOMERUBC.MX : (MXN) \n",
      "\t>> Error: cannot download data: LACOMERUBC.MX : (MXN)\n",
      "\n",
      "\n",
      "- Downloading data: LALAB.MX : (MXN) Done.\n",
      "\n",
      "- Downloading data: LIVEPOLC1.MX : (MXN) \n",
      "\t>> Error: cannot download data: LIVEPOLC1.MX : (MXN)\n",
      "\n",
      "\n",
      "- Downloading data: MEXCHEM.MX : (MXN) Done.\n",
      "\n",
      "- Downloading data: NEMAKA.MX : (MXN) \n",
      "\t>> Error: cannot download data: NEMAKA.MX : (MXN)\n",
      "\n",
      "\n",
      "- Downloading data: OHLMEX.MX : (MXN) Done.\n",
      "\n",
      "- Downloading data: OMAB.MX : (MXN) Done.\n",
      "\n",
      "- Downloading data: PENOLES.MX : (MXN) \n",
      "\t>> Error: cannot download data: PENOLES.MX : (MXN)\n",
      "\n",
      "\n",
      "- Downloading data: PINFRA.MX : (MXN) Done.\n",
      "\n",
      "- Downloading data: SANMEXB.MX : (MXN) Done.\n",
      "\n",
      "- Downloading data: SIMECB.MX : (MXN) Done.\n",
      "\n",
      "- Downloading data: TLEVISACPO.MX : (MXN) Done.\n",
      "\n",
      "- Downloading data: WALMEX.MX : (MXN) Done.\n",
      "\n",
      "Total Errors: 5\n"
     ]
    }
   ],
   "source": [
    "# Create list of Stock instances.\n",
    "obj = list(map(lambda x: \n",
    "               Stock(units='MXN',stock_name=yahoo_dict[x],t0=_from,tf=_to), \n",
    "               available_stocks))\n",
    "\n",
    "# Save information in stocks dictionary \n",
    "stocks = {}\n",
    "total_errors = 0\n",
    "for i,j in zip(obj,available_stocks):\n",
    "    print('\\n- Downloading data: {}'.format(i.name()),end=' ')\n",
    "    try:\n",
    "        i.fill()\n",
    "    except:\n",
    "        print('\\n\\t>> Error: cannot download data: {}\\n'.format(i.name()))\n",
    "        total_errors += 1\n",
    "        continue\n",
    "    stocks[j] = i\n",
    "    print('Done.')\n",
    "\n",
    "# print total of unavailable stock information \n",
    "del obj\n",
    "print('\\nTotal Errors: {}'.format(total_errors))"
   ]
  },
  {
   "cell_type": "markdown",
   "metadata": {},
   "source": [
    "## Download reference asset "
   ]
  },
  {
   "cell_type": "markdown",
   "metadata": {},
   "source": [
    "For this example the mexican IPC is used. "
   ]
  },
  {
   "cell_type": "code",
   "execution_count": 6,
   "metadata": {
    "collapsed": true
   },
   "outputs": [],
   "source": [
    "ipc = Stock(units='MXN',stock_name='^MXX',t0=_from,tf=_to)\n",
    "ipc.fill()"
   ]
  },
  {
   "cell_type": "code",
   "execution_count": 7,
   "metadata": {
    "collapsed": true
   },
   "outputs": [],
   "source": [
    "stocks['reference'] = ipc"
   ]
  },
  {
   "cell_type": "markdown",
   "metadata": {},
   "source": [
    "## Match dates for prices and returns "
   ]
  },
  {
   "cell_type": "code",
   "execution_count": 8,
   "metadata": {
    "collapsed": true
   },
   "outputs": [],
   "source": [
    "def getAllPrices(dct):\n",
    "    \n",
    "    # get first item \n",
    "    first = list(dct.keys())[0]\n",
    "    price = {first:dct[first].prices.Adj_close}\n",
    "    price = pd.DataFrame(price, index=price[first].index)\n",
    "    \n",
    "    # get other items \n",
    "    for k in dct:\n",
    "        \n",
    "        if k in [first]:\n",
    "            continue\n",
    "        \n",
    "        # calculate temporal dataframe \n",
    "        temp = {k:dct[k].prices.Adj_close}\n",
    "        temp = pd.DataFrame(temp, index=temp[k].index)\n",
    "        \n",
    "        # concatenate\n",
    "        price = pd.concat([price, temp],axis=1).dropna()\n",
    "        \n",
    "    return price\n",
    "\n",
    "def getAllReturns(dct, _type='log'):\n",
    "    \n",
    "    prices = getAllPrices(dct)\n",
    "    returns = {}\n",
    "    for i in prices:\n",
    "        temp = prices[i].values\n",
    "        if _type == 'log':\n",
    "            returns[i] = np.log(temp[1:] / temp[:-1])\n",
    "        if _type == 'nor' or _type == 'simple' or _type == 'sim':\n",
    "            returns[i] = temp[1:] / temp[:-1] - 1\n",
    "    return pd.DataFrame(returns, index=prices.index[1:])"
   ]
  },
  {
   "cell_type": "code",
   "execution_count": 9,
   "metadata": {
    "collapsed": false
   },
   "outputs": [],
   "source": [
    "prices = getAllPrices(stocks)\n",
    "returns = getAllReturns(stocks, _type='log')"
   ]
  },
  {
   "cell_type": "code",
   "execution_count": 10,
   "metadata": {
    "collapsed": false
   },
   "outputs": [
    {
     "data": {
      "text/html": [
       "<div>\n",
       "<table border=\"1\" class=\"dataframe\">\n",
       "  <thead>\n",
       "    <tr style=\"text-align: right;\">\n",
       "      <th></th>\n",
       "      <th>KIMBER.A</th>\n",
       "      <th>KOF.L</th>\n",
       "      <th>ELEKTRA</th>\n",
       "      <th>MEXCHEM</th>\n",
       "      <th>OHLMEX</th>\n",
       "      <th>GMEXICO.B</th>\n",
       "      <th>LALA.B</th>\n",
       "      <th>SANMEX.B</th>\n",
       "      <th>CEMEX.CPO</th>\n",
       "      <th>GAP.B</th>\n",
       "      <th>...</th>\n",
       "      <th>OMA.B</th>\n",
       "      <th>TLEVISA.CPO</th>\n",
       "      <th>reference</th>\n",
       "      <th>BIMBO.A</th>\n",
       "      <th>ICA</th>\n",
       "      <th>AC</th>\n",
       "      <th>ALFA.A</th>\n",
       "      <th>ICH.B</th>\n",
       "      <th>GFINBUR.O</th>\n",
       "      <th>IENOVA</th>\n",
       "    </tr>\n",
       "    <tr>\n",
       "      <th>Date</th>\n",
       "      <th></th>\n",
       "      <th></th>\n",
       "      <th></th>\n",
       "      <th></th>\n",
       "      <th></th>\n",
       "      <th></th>\n",
       "      <th></th>\n",
       "      <th></th>\n",
       "      <th></th>\n",
       "      <th></th>\n",
       "      <th></th>\n",
       "      <th></th>\n",
       "      <th></th>\n",
       "      <th></th>\n",
       "      <th></th>\n",
       "      <th></th>\n",
       "      <th></th>\n",
       "      <th></th>\n",
       "      <th></th>\n",
       "      <th></th>\n",
       "      <th></th>\n",
       "    </tr>\n",
       "  </thead>\n",
       "  <tbody>\n",
       "    <tr>\n",
       "      <th>2016-01-04</th>\n",
       "      <td>37.72264</td>\n",
       "      <td>117.54</td>\n",
       "      <td>365.66</td>\n",
       "      <td>38.23857</td>\n",
       "      <td>17.67</td>\n",
       "      <td>35.27487</td>\n",
       "      <td>39.18</td>\n",
       "      <td>27.06721</td>\n",
       "      <td>8.76923</td>\n",
       "      <td>142.50</td>\n",
       "      <td>...</td>\n",
       "      <td>78.96</td>\n",
       "      <td>92.30</td>\n",
       "      <td>42113.699219</td>\n",
       "      <td>44.8066</td>\n",
       "      <td>3.57</td>\n",
       "      <td>100.49</td>\n",
       "      <td>33.663</td>\n",
       "      <td>54.93</td>\n",
       "      <td>29.55295</td>\n",
       "      <td>72.86</td>\n",
       "    </tr>\n",
       "    <tr>\n",
       "      <th>2016-01-05</th>\n",
       "      <td>37.46255</td>\n",
       "      <td>116.10</td>\n",
       "      <td>354.62</td>\n",
       "      <td>38.10028</td>\n",
       "      <td>17.81</td>\n",
       "      <td>36.00585</td>\n",
       "      <td>39.42</td>\n",
       "      <td>27.30609</td>\n",
       "      <td>8.64423</td>\n",
       "      <td>141.88</td>\n",
       "      <td>...</td>\n",
       "      <td>78.77</td>\n",
       "      <td>91.57</td>\n",
       "      <td>42041.679688</td>\n",
       "      <td>45.5530</td>\n",
       "      <td>3.58</td>\n",
       "      <td>99.54</td>\n",
       "      <td>33.913</td>\n",
       "      <td>54.70</td>\n",
       "      <td>29.20759</td>\n",
       "      <td>71.36</td>\n",
       "    </tr>\n",
       "    <tr>\n",
       "      <th>2016-01-06</th>\n",
       "      <td>37.69374</td>\n",
       "      <td>117.57</td>\n",
       "      <td>340.09</td>\n",
       "      <td>37.59649</td>\n",
       "      <td>17.72</td>\n",
       "      <td>35.13657</td>\n",
       "      <td>39.43</td>\n",
       "      <td>27.26016</td>\n",
       "      <td>8.62500</td>\n",
       "      <td>140.98</td>\n",
       "      <td>...</td>\n",
       "      <td>79.21</td>\n",
       "      <td>90.09</td>\n",
       "      <td>41691.191406</td>\n",
       "      <td>45.7520</td>\n",
       "      <td>3.35</td>\n",
       "      <td>100.90</td>\n",
       "      <td>33.574</td>\n",
       "      <td>53.97</td>\n",
       "      <td>28.80303</td>\n",
       "      <td>70.83</td>\n",
       "    </tr>\n",
       "    <tr>\n",
       "      <th>2016-01-07</th>\n",
       "      <td>37.72264</td>\n",
       "      <td>117.45</td>\n",
       "      <td>331.65</td>\n",
       "      <td>36.01598</td>\n",
       "      <td>17.31</td>\n",
       "      <td>34.58339</td>\n",
       "      <td>38.61</td>\n",
       "      <td>26.18518</td>\n",
       "      <td>7.94231</td>\n",
       "      <td>135.54</td>\n",
       "      <td>...</td>\n",
       "      <td>78.15</td>\n",
       "      <td>89.91</td>\n",
       "      <td>40661.570312</td>\n",
       "      <td>45.9611</td>\n",
       "      <td>3.15</td>\n",
       "      <td>99.58</td>\n",
       "      <td>31.389</td>\n",
       "      <td>52.58</td>\n",
       "      <td>28.14191</td>\n",
       "      <td>72.19</td>\n",
       "    </tr>\n",
       "    <tr>\n",
       "      <th>2016-01-08</th>\n",
       "      <td>37.23136</td>\n",
       "      <td>115.96</td>\n",
       "      <td>327.13</td>\n",
       "      <td>35.96658</td>\n",
       "      <td>17.32</td>\n",
       "      <td>33.74375</td>\n",
       "      <td>38.98</td>\n",
       "      <td>25.95549</td>\n",
       "      <td>7.47115</td>\n",
       "      <td>137.86</td>\n",
       "      <td>...</td>\n",
       "      <td>76.89</td>\n",
       "      <td>91.28</td>\n",
       "      <td>40265.371094</td>\n",
       "      <td>46.3393</td>\n",
       "      <td>3.18</td>\n",
       "      <td>99.49</td>\n",
       "      <td>30.740</td>\n",
       "      <td>52.57</td>\n",
       "      <td>28.31952</td>\n",
       "      <td>70.96</td>\n",
       "    </tr>\n",
       "  </tbody>\n",
       "</table>\n",
       "<p>5 rows × 32 columns</p>\n",
       "</div>"
      ],
      "text/plain": [
       "            KIMBER.A   KOF.L  ELEKTRA   MEXCHEM  OHLMEX  GMEXICO.B  LALA.B  \\\n",
       "Date                                                                         \n",
       "2016-01-04  37.72264  117.54   365.66  38.23857   17.67   35.27487   39.18   \n",
       "2016-01-05  37.46255  116.10   354.62  38.10028   17.81   36.00585   39.42   \n",
       "2016-01-06  37.69374  117.57   340.09  37.59649   17.72   35.13657   39.43   \n",
       "2016-01-07  37.72264  117.45   331.65  36.01598   17.31   34.58339   38.61   \n",
       "2016-01-08  37.23136  115.96   327.13  35.96658   17.32   33.74375   38.98   \n",
       "\n",
       "            SANMEX.B  CEMEX.CPO   GAP.B   ...    OMA.B  TLEVISA.CPO  \\\n",
       "Date                                      ...                         \n",
       "2016-01-04  27.06721    8.76923  142.50   ...    78.96        92.30   \n",
       "2016-01-05  27.30609    8.64423  141.88   ...    78.77        91.57   \n",
       "2016-01-06  27.26016    8.62500  140.98   ...    79.21        90.09   \n",
       "2016-01-07  26.18518    7.94231  135.54   ...    78.15        89.91   \n",
       "2016-01-08  25.95549    7.47115  137.86   ...    76.89        91.28   \n",
       "\n",
       "               reference  BIMBO.A   ICA      AC  ALFA.A  ICH.B  GFINBUR.O  \\\n",
       "Date                                                                        \n",
       "2016-01-04  42113.699219  44.8066  3.57  100.49  33.663  54.93   29.55295   \n",
       "2016-01-05  42041.679688  45.5530  3.58   99.54  33.913  54.70   29.20759   \n",
       "2016-01-06  41691.191406  45.7520  3.35  100.90  33.574  53.97   28.80303   \n",
       "2016-01-07  40661.570312  45.9611  3.15   99.58  31.389  52.58   28.14191   \n",
       "2016-01-08  40265.371094  46.3393  3.18   99.49  30.740  52.57   28.31952   \n",
       "\n",
       "            IENOVA  \n",
       "Date                \n",
       "2016-01-04   72.86  \n",
       "2016-01-05   71.36  \n",
       "2016-01-06   70.83  \n",
       "2016-01-07   72.19  \n",
       "2016-01-08   70.96  \n",
       "\n",
       "[5 rows x 32 columns]"
      ]
     },
     "execution_count": 10,
     "metadata": {},
     "output_type": "execute_result"
    }
   ],
   "source": [
    "prices.head()"
   ]
  },
  {
   "cell_type": "code",
   "execution_count": 11,
   "metadata": {
    "collapsed": false
   },
   "outputs": [
    {
     "data": {
      "text/html": [
       "<div>\n",
       "<table border=\"1\" class=\"dataframe\">\n",
       "  <thead>\n",
       "    <tr style=\"text-align: right;\">\n",
       "      <th></th>\n",
       "      <th>AC</th>\n",
       "      <th>ALFA.A</th>\n",
       "      <th>ALSEA</th>\n",
       "      <th>AMX.L</th>\n",
       "      <th>ASUR.B</th>\n",
       "      <th>BIMBO.A</th>\n",
       "      <th>CEMEX.CPO</th>\n",
       "      <th>ELEKTRA</th>\n",
       "      <th>GAP.B</th>\n",
       "      <th>GCARSO.A1</th>\n",
       "      <th>...</th>\n",
       "      <th>LALA.B</th>\n",
       "      <th>MEXCHEM</th>\n",
       "      <th>OHLMEX</th>\n",
       "      <th>OMA.B</th>\n",
       "      <th>PINFRA</th>\n",
       "      <th>SANMEX.B</th>\n",
       "      <th>SIMEC.B</th>\n",
       "      <th>TLEVISA.CPO</th>\n",
       "      <th>WALMEX</th>\n",
       "      <th>reference</th>\n",
       "    </tr>\n",
       "    <tr>\n",
       "      <th>Date</th>\n",
       "      <th></th>\n",
       "      <th></th>\n",
       "      <th></th>\n",
       "      <th></th>\n",
       "      <th></th>\n",
       "      <th></th>\n",
       "      <th></th>\n",
       "      <th></th>\n",
       "      <th></th>\n",
       "      <th></th>\n",
       "      <th></th>\n",
       "      <th></th>\n",
       "      <th></th>\n",
       "      <th></th>\n",
       "      <th></th>\n",
       "      <th></th>\n",
       "      <th></th>\n",
       "      <th></th>\n",
       "      <th></th>\n",
       "      <th></th>\n",
       "      <th></th>\n",
       "    </tr>\n",
       "  </thead>\n",
       "  <tbody>\n",
       "    <tr>\n",
       "      <th>2016-01-05</th>\n",
       "      <td>-0.009499</td>\n",
       "      <td>0.007399</td>\n",
       "      <td>0.008112</td>\n",
       "      <td>-0.005000</td>\n",
       "      <td>-0.022329</td>\n",
       "      <td>0.016521</td>\n",
       "      <td>-0.014357</td>\n",
       "      <td>-0.030657</td>\n",
       "      <td>-0.004360</td>\n",
       "      <td>0.012382</td>\n",
       "      <td>...</td>\n",
       "      <td>0.006107</td>\n",
       "      <td>-0.003623</td>\n",
       "      <td>0.007892</td>\n",
       "      <td>-0.002409</td>\n",
       "      <td>0.003100</td>\n",
       "      <td>0.008787</td>\n",
       "      <td>-0.011640</td>\n",
       "      <td>-0.007940</td>\n",
       "      <td>-0.004211</td>\n",
       "      <td>-0.001712</td>\n",
       "    </tr>\n",
       "    <tr>\n",
       "      <th>2016-01-06</th>\n",
       "      <td>0.013570</td>\n",
       "      <td>-0.010046</td>\n",
       "      <td>-0.003710</td>\n",
       "      <td>-0.019402</td>\n",
       "      <td>-0.004561</td>\n",
       "      <td>0.004359</td>\n",
       "      <td>-0.002227</td>\n",
       "      <td>-0.041837</td>\n",
       "      <td>-0.006364</td>\n",
       "      <td>-0.003258</td>\n",
       "      <td>...</td>\n",
       "      <td>0.000254</td>\n",
       "      <td>-0.013311</td>\n",
       "      <td>-0.005066</td>\n",
       "      <td>0.005570</td>\n",
       "      <td>-0.018643</td>\n",
       "      <td>-0.001683</td>\n",
       "      <td>-0.002131</td>\n",
       "      <td>-0.016295</td>\n",
       "      <td>-0.006585</td>\n",
       "      <td>-0.008372</td>\n",
       "    </tr>\n",
       "    <tr>\n",
       "      <th>2016-01-07</th>\n",
       "      <td>-0.013169</td>\n",
       "      <td>-0.067294</td>\n",
       "      <td>-0.038930</td>\n",
       "      <td>-0.034665</td>\n",
       "      <td>-0.005422</td>\n",
       "      <td>0.004560</td>\n",
       "      <td>-0.082461</td>\n",
       "      <td>-0.025130</td>\n",
       "      <td>-0.039351</td>\n",
       "      <td>-0.033476</td>\n",
       "      <td>...</td>\n",
       "      <td>-0.021016</td>\n",
       "      <td>-0.042948</td>\n",
       "      <td>-0.023410</td>\n",
       "      <td>-0.013472</td>\n",
       "      <td>-0.015386</td>\n",
       "      <td>-0.040233</td>\n",
       "      <td>-0.022655</td>\n",
       "      <td>-0.002000</td>\n",
       "      <td>-0.058047</td>\n",
       "      <td>-0.025006</td>\n",
       "    </tr>\n",
       "    <tr>\n",
       "      <th>2016-01-08</th>\n",
       "      <td>-0.000904</td>\n",
       "      <td>-0.020893</td>\n",
       "      <td>-0.003343</td>\n",
       "      <td>-0.037741</td>\n",
       "      <td>-0.004163</td>\n",
       "      <td>0.008195</td>\n",
       "      <td>-0.061155</td>\n",
       "      <td>-0.013723</td>\n",
       "      <td>0.016972</td>\n",
       "      <td>-0.000587</td>\n",
       "      <td>...</td>\n",
       "      <td>0.009537</td>\n",
       "      <td>-0.001373</td>\n",
       "      <td>0.000578</td>\n",
       "      <td>-0.016254</td>\n",
       "      <td>-0.019607</td>\n",
       "      <td>-0.008810</td>\n",
       "      <td>0.003812</td>\n",
       "      <td>0.015123</td>\n",
       "      <td>0.025674</td>\n",
       "      <td>-0.009792</td>\n",
       "    </tr>\n",
       "    <tr>\n",
       "      <th>2016-01-11</th>\n",
       "      <td>0.012982</td>\n",
       "      <td>0.017702</td>\n",
       "      <td>0.018855</td>\n",
       "      <td>0.021740</td>\n",
       "      <td>-0.008424</td>\n",
       "      <td>0.016189</td>\n",
       "      <td>0.007693</td>\n",
       "      <td>0.037028</td>\n",
       "      <td>0.008307</td>\n",
       "      <td>0.054847</td>\n",
       "      <td>...</td>\n",
       "      <td>-0.000257</td>\n",
       "      <td>0.022540</td>\n",
       "      <td>-0.022184</td>\n",
       "      <td>0.007386</td>\n",
       "      <td>0.021587</td>\n",
       "      <td>-0.021830</td>\n",
       "      <td>-0.003266</td>\n",
       "      <td>0.014465</td>\n",
       "      <td>0.040598</td>\n",
       "      <td>0.010906</td>\n",
       "    </tr>\n",
       "  </tbody>\n",
       "</table>\n",
       "<p>5 rows × 32 columns</p>\n",
       "</div>"
      ],
      "text/plain": [
       "                  AC    ALFA.A     ALSEA     AMX.L    ASUR.B   BIMBO.A  \\\n",
       "Date                                                                     \n",
       "2016-01-05 -0.009499  0.007399  0.008112 -0.005000 -0.022329  0.016521   \n",
       "2016-01-06  0.013570 -0.010046 -0.003710 -0.019402 -0.004561  0.004359   \n",
       "2016-01-07 -0.013169 -0.067294 -0.038930 -0.034665 -0.005422  0.004560   \n",
       "2016-01-08 -0.000904 -0.020893 -0.003343 -0.037741 -0.004163  0.008195   \n",
       "2016-01-11  0.012982  0.017702  0.018855  0.021740 -0.008424  0.016189   \n",
       "\n",
       "            CEMEX.CPO   ELEKTRA     GAP.B  GCARSO.A1    ...        LALA.B  \\\n",
       "Date                                                    ...                 \n",
       "2016-01-05  -0.014357 -0.030657 -0.004360   0.012382    ...      0.006107   \n",
       "2016-01-06  -0.002227 -0.041837 -0.006364  -0.003258    ...      0.000254   \n",
       "2016-01-07  -0.082461 -0.025130 -0.039351  -0.033476    ...     -0.021016   \n",
       "2016-01-08  -0.061155 -0.013723  0.016972  -0.000587    ...      0.009537   \n",
       "2016-01-11   0.007693  0.037028  0.008307   0.054847    ...     -0.000257   \n",
       "\n",
       "             MEXCHEM    OHLMEX     OMA.B    PINFRA  SANMEX.B   SIMEC.B  \\\n",
       "Date                                                                     \n",
       "2016-01-05 -0.003623  0.007892 -0.002409  0.003100  0.008787 -0.011640   \n",
       "2016-01-06 -0.013311 -0.005066  0.005570 -0.018643 -0.001683 -0.002131   \n",
       "2016-01-07 -0.042948 -0.023410 -0.013472 -0.015386 -0.040233 -0.022655   \n",
       "2016-01-08 -0.001373  0.000578 -0.016254 -0.019607 -0.008810  0.003812   \n",
       "2016-01-11  0.022540 -0.022184  0.007386  0.021587 -0.021830 -0.003266   \n",
       "\n",
       "            TLEVISA.CPO    WALMEX  reference  \n",
       "Date                                          \n",
       "2016-01-05    -0.007940 -0.004211  -0.001712  \n",
       "2016-01-06    -0.016295 -0.006585  -0.008372  \n",
       "2016-01-07    -0.002000 -0.058047  -0.025006  \n",
       "2016-01-08     0.015123  0.025674  -0.009792  \n",
       "2016-01-11     0.014465  0.040598   0.010906  \n",
       "\n",
       "[5 rows x 32 columns]"
      ]
     },
     "execution_count": 11,
     "metadata": {},
     "output_type": "execute_result"
    }
   ],
   "source": [
    "returns.head()"
   ]
  },
  {
   "cell_type": "markdown",
   "metadata": {},
   "source": [
    "## Determine portfolio via linear regression"
   ]
  },
  {
   "cell_type": "code",
   "execution_count": 12,
   "metadata": {
    "collapsed": false
   },
   "outputs": [],
   "source": [
    "base_stocks = [i for i in returns.columns if i != 'reference']"
   ]
  },
  {
   "cell_type": "code",
   "execution_count": 13,
   "metadata": {
    "collapsed": true
   },
   "outputs": [],
   "source": [
    "replicator = adaline(x_data=returns[base_stocks], y_data=returns[['reference']])\n",
    "replicator.train()\n",
    "replicator.evaluate()"
   ]
  },
  {
   "cell_type": "code",
   "execution_count": 14,
   "metadata": {
    "collapsed": false
   },
   "outputs": [],
   "source": [
    "estimated_returns = [np.asscalar(i) for i in replicator.y_estimate]\n",
    "real_values = [np.asscalar(i) for i in replicator.y_data.values]"
   ]
  },
  {
   "cell_type": "code",
   "execution_count": 15,
   "metadata": {
    "collapsed": false
   },
   "outputs": [
    {
     "data": {
      "text/plain": [
       "3.3897583685490615e-06"
      ]
     },
     "execution_count": 15,
     "metadata": {},
     "output_type": "execute_result"
    }
   ],
   "source": [
    "core = {'estimation':estimated_returns,'real':real_values}\n",
    "\n",
    "results = pd.DataFrame(core,index=replicator.y_data.index)\n",
    "\n",
    "results.apply(lambda x: (x['real']-x['estimation'])**2,1).mean()\n"
   ]
  },
  {
   "cell_type": "code",
   "execution_count": 16,
   "metadata": {
    "collapsed": false
   },
   "outputs": [
    {
     "data": {
      "text/plain": [
       "<matplotlib.axes._subplots.AxesSubplot at 0x7f2f1290e9b0>"
      ]
     },
     "execution_count": 16,
     "metadata": {},
     "output_type": "execute_result"
    },
    {
     "data": {
      "image/png": "[encoded data removed]",
      "text/plain": [
       "<matplotlib.figure.Figure at 0x7f2f11f5e0b8>"
      ]
     },
     "metadata": {},
     "output_type": "display_data"
    }
   ],
   "source": [
    "results.plot()"
   ]
  },
  {
   "cell_type": "code",
   "execution_count": 17,
   "metadata": {
    "collapsed": false
   },
   "outputs": [
    {
     "name": "stdout",
     "output_type": "stream",
     "text": [
      "cash \t: -0.0104\n",
      "AC \t: 1.5071\n",
      "ALFA.A \t: 2.2857\n",
      "ALSEA \t: 0.0135\n",
      "AMX.L \t: 11.6983\n",
      "ASUR.B \t: 4.4170\n",
      "BIMBO.A \t: 4.4155\n",
      "CEMEX.CPO \t: 6.2786\n",
      "ELEKTRA \t: 0.7131\n",
      "GAP.B \t: 2.3595\n",
      "GCARSO.A1 \t: 1.3435\n",
      "GENTERA \t: -0.4313\n",
      "GFINBUR.O \t: -0.1760\n",
      "GFNORTE.O \t: 9.4800\n",
      "GFREGIO.O \t: 0.7257\n",
      "GMEXICO.B \t: 7.3921\n",
      "GRUMA.B \t: 3.1808\n",
      "ICA \t: 0.0819\n",
      "ICH.B \t: 0.1170\n",
      "IENOVA \t: 2.1899\n",
      "KIMBER.A \t: 3.6160\n",
      "KOF.L \t: 6.5463\n",
      "LAB.B \t: -0.4497\n",
      "LALA.B \t: 1.1938\n",
      "MEXCHEM \t: 1.6814\n",
      "OHLMEX \t: 0.4859\n",
      "OMA.B \t: 2.4684\n",
      "PINFRA \t: 0.7606\n",
      "SANMEX.B \t: 2.5524\n",
      "SIMEC.B \t: -1.3455\n",
      "TLEVISA.CPO \t: 7.8460\n",
      "WALMEX \t: 11.7537\n"
     ]
    }
   ],
   "source": [
    "weights = []\n",
    "for w,n in zip(replicator.w,['cash']+base_stocks):\n",
    "    if n != 'cash':\n",
    "        weights.append(np.asscalar(w))\n",
    "    print('{} \\t: {:0.4f}'.format(n,100*np.asscalar(w)))"
   ]
  },
  {
   "cell_type": "markdown",
   "metadata": {},
   "source": [
    "Iterate over the procedure to generate weight with the desired constraints (positive and sum to 1)."
   ]
  },
  {
   "cell_type": "code",
   "execution_count": 18,
   "metadata": {
    "collapsed": false
   },
   "outputs": [],
   "source": [
    "def iterativeModel(returns,base_stocks=None,weights=None,tolerance=0.005,max_iter=1000):\n",
    "    condition = True\n",
    "    warning = 0\n",
    "    while(condition):\n",
    "        \n",
    "        if base_stocks is None:\n",
    "            base_stocks = [i for i in returns.columns if i != 'reference']\n",
    "\n",
    "        # get base stocks \n",
    "        if weights is not None:\n",
    "            base_stocks = [s for s,b in zip(base_stocks,list(map(lambda x: x>0,weights))) if b]\n",
    "\n",
    "        # model \n",
    "        replicator = adaline(x_data=returns[base_stocks], y_data=returns[['reference']])\n",
    "        replicator.train()\n",
    "        replicator.evaluate()\n",
    "\n",
    "        # get estimations \n",
    "        estimated_returns = [np.asscalar(i) for i in replicator.y_estimate]\n",
    "        real_values = [np.asscalar(i) for i in replicator.y_data.values]\n",
    "\n",
    "        # calculate sme error \n",
    "        core = {'estimation':estimated_returns,'real':real_values}\n",
    "        results = pd.DataFrame(core,index=replicator.y_data.index)\n",
    "        mse = results.apply(lambda x: (x['real']-x['estimation'])**2,1).mean()\n",
    "\n",
    "        # weights \n",
    "        weights = []\n",
    "        for w,n in zip(replicator.w,['cash']+base_stocks):\n",
    "            if n != 'cash':\n",
    "                weights.append(np.asscalar(w))\n",
    "\n",
    "        condition_1 = True if (False not in (list(map(lambda x: x>0,weights)))) else False \n",
    "        condition_2 = True if (sum(weights) > 1-tolerance) or (sum(weights) < 1+tolerance) else False\n",
    "        condition = False if (condition_1 and condition_2) else True\n",
    "        \n",
    "        if warning > max_iter:\n",
    "            print('Error: more than {} iterations and not solution found.')\n",
    "            print('>> Change \"max_iter\" or \"tolerance\".')\n",
    "            break \n",
    "        \n",
    "    return {'results':results,'x_data':replicator.x_data,'mse':mse,\n",
    "            'y_data':replicator.y_data,'w':weights,'stocks':base_stocks}"
   ]
  },
  {
   "cell_type": "code",
   "execution_count": 19,
   "metadata": {
    "collapsed": false
   },
   "outputs": [
    {
     "name": "stdout",
     "output_type": "stream",
     "text": [
      "Mean-Square-Error: 3.419220269598198e-06\n"
     ]
    }
   ],
   "source": [
    "res = iterativeModel(returns)\n",
    "\n",
    "print('Mean-Square-Error: {}'.format(res['mse']))"
   ]
  },
  {
   "cell_type": "code",
   "execution_count": 20,
   "metadata": {
    "collapsed": false
   },
   "outputs": [
    {
     "name": "stdout",
     "output_type": "stream",
     "text": [
      "\n",
      "Stock name: cash\n",
      "Weight: 1.6114%\n",
      "\n",
      "\n",
      "Stock name: AC\n",
      "Weight: 2.0324%\n",
      "\n",
      "\n",
      "Stock name: ALFA.A\n",
      "Weight: 11.7996%\n",
      "\n",
      "\n",
      "Stock name: AMX.L\n",
      "Weight: 4.4210%\n",
      "\n",
      "\n",
      "Stock name: ASUR.B\n",
      "Weight: 4.3446%\n",
      "\n",
      "\n",
      "Stock name: BIMBO.A\n",
      "Weight: 6.1165%\n",
      "\n",
      "\n",
      "Stock name: CEMEX.CPO\n",
      "Weight: 0.5134%\n",
      "\n",
      "\n",
      "Stock name: ELEKTRA\n",
      "Weight: 2.2665%\n",
      "\n",
      "\n",
      "Stock name: GAP.B\n",
      "Weight: 1.2656%\n",
      "\n",
      "\n",
      "Stock name: GCARSO.A1\n",
      "Weight: 9.5806%\n",
      "\n",
      "\n",
      "Stock name: GFNORTE.O\n",
      "Weight: 0.7231%\n",
      "\n",
      "\n",
      "Stock name: GFREGIO.O\n",
      "Weight: 7.3584%\n",
      "\n",
      "\n",
      "Stock name: GMEXICO.B\n",
      "Weight: 3.1458%\n",
      "\n",
      "\n",
      "Stock name: GRUMA.B\n",
      "Weight: 0.0968%\n",
      "\n",
      "\n",
      "Stock name: ICA\n",
      "Weight: 2.2698%\n",
      "\n",
      "\n",
      "Stock name: IENOVA\n",
      "Weight: 3.5514%\n",
      "\n",
      "\n",
      "Stock name: KIMBER.A\n",
      "Weight: 6.5867%\n",
      "\n",
      "\n",
      "Stock name: KOF.L\n",
      "Weight: 1.0956%\n",
      "\n",
      "\n",
      "Stock name: LALA.B\n",
      "Weight: 1.6937%\n",
      "\n",
      "\n",
      "Stock name: MEXCHEM\n",
      "Weight: 0.4683%\n",
      "\n",
      "\n",
      "Stock name: OHLMEX\n",
      "Weight: 2.4256%\n",
      "\n",
      "\n",
      "Stock name: OMA.B\n",
      "Weight: 0.5687%\n",
      "\n",
      "\n",
      "Stock name: PINFRA\n",
      "Weight: 2.5222%\n",
      "\n",
      "\n",
      "Stock name: SANMEX.B\n",
      "Weight: 7.8252%\n",
      "\n",
      "\n",
      "Stock name: TLEVISA.CPO\n",
      "Weight: 11.6925%\n",
      "\n"
     ]
    }
   ],
   "source": [
    "for w,n in zip(res['w'],['cash']+res['stocks']):\n",
    "    print('\\nStock name: {}\\nWeight: {:0.4f}%\\n'.format(n,100*w))"
   ]
  },
  {
   "cell_type": "markdown",
   "metadata": {},
   "source": [
    "## Trade in the app "
   ]
  },
  {
   "cell_type": "markdown",
   "metadata": {},
   "source": [
    "### Kick-off "
   ]
  },
  {
   "cell_type": "code",
   "execution_count": 21,
   "metadata": {
    "collapsed": true
   },
   "outputs": [],
   "source": [
    "initial_cash = 2000000 - 10000"
   ]
  },
  {
   "cell_type": "code",
   "execution_count": 22,
   "metadata": {
    "collapsed": false
   },
   "outputs": [
    {
     "name": "stdout",
     "output_type": "stream",
     "text": [
      "\n",
      "Name: AC\n",
      ">> Weight: 1.6114%\n",
      ">> Stocks: 278 \n",
      "\n",
      "Name: ALFA.A\n",
      ">> Weight: 2.0324%\n",
      ">> Stocks: 1532 \n",
      "\n",
      "Name: AMX.L\n",
      ">> Weight: 11.7996%\n",
      ">> Stocks: 17965 \n",
      "\n",
      "Name: ASUR.B\n",
      ">> Weight: 4.4210%\n",
      ">> Stocks: 279 \n",
      "\n",
      "Name: BIMBO.A\n",
      ">> Weight: 4.3446%\n",
      ">> Stocks: 1841 \n",
      "\n",
      "Name: CEMEX.CPO\n",
      ">> Weight: 6.1165%\n",
      ">> Stocks: 7056 \n",
      "\n",
      "Name: ELEKTRA\n",
      ">> Weight: 0.5134%\n",
      ">> Stocks: 34 \n",
      "\n",
      "Name: GAP.B\n",
      ">> Weight: 2.2665%\n",
      ">> Stocks: 258 \n",
      "\n",
      "Name: GCARSO.A1\n",
      ">> Weight: 1.2656%\n",
      ">> Stocks: 286 \n",
      "\n",
      "Name: GFNORTE.O\n",
      ">> Weight: 9.5806%\n",
      ">> Stocks: 1909 \n",
      "\n",
      "Name: GFREGIO.O\n",
      ">> Weight: 0.7231%\n",
      ">> Stocks: 136 \n",
      "\n",
      "Name: GMEXICO.B\n",
      ">> Weight: 7.3584%\n",
      ">> Stocks: 2328 \n",
      "\n",
      "Name: GRUMA.B\n",
      ">> Weight: 3.1458%\n",
      ">> Stocks: 234 \n",
      "\n",
      "Name: ICA\n",
      ">> Weight: 0.0968%\n",
      ">> Stocks: 953 \n",
      "\n",
      "Name: IENOVA\n",
      ">> Weight: 2.2698%\n",
      ">> Stocks: 524 \n",
      "\n",
      "Name: KIMBER.A\n",
      ">> Weight: 3.5514%\n",
      ">> Stocks: 1850 \n",
      "\n",
      "Name: KOF.L\n",
      ">> Weight: 6.5867%\n",
      ">> Stocks: 987 \n",
      "\n",
      "Name: LALA.B\n",
      ">> Weight: 1.0956%\n",
      ">> Stocks: 653 \n",
      "\n",
      "Name: MEXCHEM\n",
      ">> Weight: 1.6937%\n",
      ">> Stocks: 658 \n",
      "\n",
      "Name: OHLMEX\n",
      ">> Weight: 0.4683%\n",
      ">> Stocks: 441 \n",
      "\n",
      "Name: OMA.B\n",
      ">> Weight: 2.4256%\n",
      ">> Stocks: 494 \n",
      "\n",
      "Name: PINFRA\n",
      ">> Weight: 0.5687%\n",
      ">> Stocks: 60 \n",
      "\n",
      "Name: SANMEX.B\n",
      ">> Weight: 2.5222%\n",
      ">> Stocks: 1682 \n",
      "\n",
      "Name: TLEVISA.CPO\n",
      ">> Weight: 7.8252%\n",
      ">> Stocks: 1540 \n",
      "\n",
      "Name: WALMEX\n",
      ">> Weight: 11.6925%\n",
      ">> Stocks: 5963 \n"
     ]
    }
   ],
   "source": [
    "cash = []\n",
    "nstocks = []\n",
    "for w,n in zip(res['w'],res['stocks']):\n",
    "    \n",
    "    p = prices[res['stocks']][n].iloc[-1]\n",
    "    cash.append(initial_cash*w)\n",
    "    nstocks.append(int(cash[-1]/p))\n",
    "    \n",
    "    print('\\nName: {}\\n>> Weight: {:0.4f}%\\n>> Stocks: {} '.format(n,100*w,nstocks[-1]))"
   ]
  },
  {
   "cell_type": "code",
   "execution_count": null,
   "metadata": {
    "collapsed": false
   },
   "outputs": [],
   "source": []
  },
  {
   "cell_type": "code",
   "execution_count": 3,
   "metadata": {
    "collapsed": false
   },
   "outputs": [],
   "source": [
    "# Open the trading session \n",
    "ts = TradingSession(user='sd8892',pw='Mexico0r',alias='Trading Session')\n",
    "time.sleep(5)"
   ]
  },
  {
   "cell_type": "code",
   "execution_count": 37,
   "metadata": {
    "collapsed": true
   },
   "outputs": [],
   "source": [
    "def recursiveOperation(w,s):\n",
    "    try:\n",
    "        ts.performOperation(nature='compra',stock='{}'.format(w),number=int(s),price='mercado')\n",
    "        return 1\n",
    "    except:\n",
    "        time.sleep(1)\n",
    "        return recursiveOperation(w,s)"
   ]
  },
  {
   "cell_type": "code",
   "execution_count": null,
   "metadata": {
    "collapsed": false,
    "scrolled": false
   },
   "outputs": [],
   "source": [
    "_id = 0\n",
    "recorded = []\n",
    "for w,s in zip(res['stocks'],nstocks):\n",
    "    \n",
    "    print('\\nInvesting in: {}'.format(w))\n",
    "    # fill and submit\n",
    "    try: \n",
    "        ts.performOperation(nature='compra',stock='{}'.format(w),number=int(s),price='mercado')\n",
    "    except:\n",
    "        print('>> Entering recursive download.')\n",
    "        recursiveOperation(w,s)\n",
    "    \n",
    "    # take screenshow\n",
    "    file_name = '{}_{}_{}'.format(dt.datetime.strftime(dt.datetime.today(),'%Y%m%d_%Hh%Mm%Ss'),w,_id)\n",
    "    file_path = '/screenshots/{}.png'.format(file_name)\n",
    "    ts.browser.get_screenshot_as_file(file_path)\n",
    "    ts.browser.save_screenshot(file_path)\n",
    "    _id += 1\n",
    "    \n",
    "    # accept\n",
    "    time.sleep(4)\n",
    "    try:\n",
    "        ts.browser.find_element_by_xpath('//a[@id=\"btn-aceptar\"]').click()\n",
    "    except:\n",
    "        continue\n",
    "        \n",
    "    recorded.append((w,s))\n",
    "    print('Done!')"
   ]
  },
  {
   "cell_type": "code",
   "execution_count": 59,
   "metadata": {
    "collapsed": false
   },
   "outputs": [
    {
     "data": {
      "text/plain": [
       "['AC',\n",
       " 'AMX.L',\n",
       " 'ASUR.B',\n",
       " 'BIMBO.A',\n",
       " 'CEMEX.CPO',\n",
       " 'ELEKTRA',\n",
       " 'GAP.B',\n",
       " 'GCARSO.A1',\n",
       " 'GFNORTE.O',\n",
       " 'GFREGIO.O',\n",
       " 'GMEXICO.B',\n",
       " 'GRUMA.B',\n",
       " 'ICA',\n",
       " 'IENOVA',\n",
       " 'KIMBER.A',\n",
       " 'KOF.L',\n",
       " 'LALA.B',\n",
       " 'MEXCHEM',\n",
       " 'OHLMEX',\n",
       " 'OMA.B',\n",
       " 'PINFRA',\n",
       " 'SANMEX.B',\n",
       " 'ALFA.A',\n",
       " 'TLEVISA.CPO']"
      ]
     },
     "execution_count": 59,
     "metadata": {},
     "output_type": "execute_result"
    }
   ],
   "source": [
    "[i[0] for i in recorded]"
   ]
  },
  {
   "cell_type": "code",
   "execution_count": 66,
   "metadata": {
    "collapsed": false
   },
   "outputs": [],
   "source": [
    "ts = TradingSession(user='sd8892',pw='Mexico0r',alias='Trading Session')\n",
    "time.sleep(5)"
   ]
  },
  {
   "cell_type": "code",
   "execution_count": 63,
   "metadata": {
    "collapsed": false
   },
   "outputs": [
    {
     "name": "stdout",
     "output_type": "stream",
     "text": [
      "\n",
      "Investing in: WALMEX\n",
      ">> Entering recursive download.\n",
      "Done!\n"
     ]
    }
   ],
   "source": [
    "for w,s in zip(res['stocks'],nstocks):\n",
    "    if w in [i[0] for i in recorded]:\n",
    "        continue\n",
    "        \n",
    "    print('\\nInvesting in: {}'.format(w))\n",
    "    # fill and submit\n",
    "    try: \n",
    "        ts.performOperation(nature='compra',stock='{}'.format(w),number=int(s),price='mercado')\n",
    "    except:\n",
    "        print('>> Entering recursive download.')\n",
    "        recursiveOperation(w,s)\n",
    "    \n",
    "    # take screenshow\n",
    "    file_name = '{}_{}_{}'.format(dt.datetime.strftime(dt.datetime.today(),'%Y%m%d_%Hh%Mm%Ss'),w,_id)\n",
    "    file_path = '/screenshots/{}.png'.format(file_name)\n",
    "    ts.browser.get_screenshot_as_file(file_path)\n",
    "    ts.browser.save_screenshot(file_path)\n",
    "    _id += 1\n",
    "    \n",
    "    # accept\n",
    "    time.sleep(4)\n",
    "    try:\n",
    "        ts.browser.find_element_by_xpath('//a[@id=\"btn-aceptar\"]').click()\n",
    "    except:\n",
    "        continue\n",
    "        \n",
    "    recorded.append((w,s))\n",
    "    print('Done!')"
   ]
  },
  {
   "cell_type": "code",
   "execution_count": 65,
   "metadata": {
    "collapsed": false
   },
   "outputs": [],
   "source": [
    "ts.close()"
   ]
  },
  {
   "cell_type": "code",
   "execution_count": 72,
   "metadata": {
    "collapsed": false
   },
   "outputs": [],
   "source": []
  },
  {
   "cell_type": "code",
   "execution_count": null,
   "metadata": {
    "collapsed": false
   },
   "outputs": [],
   "source": [
    "np.save('reference_.npy',list(zip(res['stocks'],nstocks)))"
   ]
  },
  {
   "cell_type": "code",
   "execution_count": 68,
   "metadata": {
    "collapsed": false
   },
   "outputs": [
    {
     "data": {
      "text/plain": [
       "[('AC', 274),\n",
       " ('ALFA.A', 1506),\n",
       " ('ALSEA', 3),\n",
       " ('AMX.L', 17936),\n",
       " ('ASUR.B', 279),\n",
       " ('BIMBO.A', 1840),\n",
       " ('CEMEX.CPO', 7039),\n",
       " ('ELEKTRA', 33),\n",
       " ('GAP.B', 259),\n",
       " ('GCARSO.A1', 282),\n",
       " ('GFNORTE.O', 1903),\n",
       " ('GFREGIO.O', 137),\n",
       " ('GMEXICO.B', 2330),\n",
       " ('GRUMA.B', 234),\n",
       " ('ICA', 913),\n",
       " ('IENOVA', 526),\n",
       " ('KIMBER.A', 1844),\n",
       " ('KOF.L', 987),\n",
       " ('LALA.B', 641),\n",
       " ('MEXCHEM', 712),\n",
       " ('OHLMEX', 446),\n",
       " ('OMA.B', 492),\n",
       " ('PINFRA', 61),\n",
       " ('SANMEX.B', 1679),\n",
       " ('TLEVISA.CPO', 1543),\n",
       " ('WALMEX', 5960)]"
      ]
     },
     "execution_count": 68,
     "metadata": {},
     "output_type": "execute_result"
    }
   ],
   "source": [
    "list(zip(res['stocks'],nstocks))"
   ]
  },
  {
   "cell_type": "code",
   "execution_count": null,
   "metadata": {
    "collapsed": false
   },
   "outputs": [],
   "source": []
  },
  {
   "cell_type": "markdown",
   "metadata": {
    "collapsed": true
   },
   "source": [
    "## Save changes "
   ]
  },
  {
   "cell_type": "code",
   "execution_count": 21,
   "metadata": {
    "collapsed": true
   },
   "outputs": [],
   "source": [
    "# Open the trading session \n",
    "ts = TradingSession(user='sd8892',pw='Mexico0r',alias='Trading Session')\n",
    "time.sleep(5)"
   ]
  },
  {
   "cell_type": "code",
   "execution_count": null,
   "metadata": {
    "collapsed": true
   },
   "outputs": [],
   "source": [
    "a = ts.browser.find_element_by_xpath('//table[@class=\"zebra_stripes width_100_percent mb_30\"]').text"
   ]
  },
  {
   "cell_type": "code",
   "execution_count": 15,
   "metadata": {
    "collapsed": false
   },
   "outputs": [],
   "source": [
    "save_first = {1:a}"
   ]
  },
  {
   "cell_type": "code",
   "execution_count": 18,
   "metadata": {
    "collapsed": false
   },
   "outputs": [],
   "source": [
    "np.save('save_index_changes.npy',save_first)"
   ]
  },
  {
   "cell_type": "code",
   "execution_count": 20,
   "metadata": {
    "collapsed": false,
    "scrolled": false
   },
   "outputs": [
    {
     "data": {
      "text/plain": [
       "{1: 'Fecha y Hora Transacción Emisora Volumen Precio\\n($) Importe\\nTotal ($) Efectivo\\nDisponible($)\\n  06 mar 2017 08:30:00 Compra Realizada GMEXICO.B 100 62.890 6,311.01 1,931,635.25\\n06 mar 2017 08:30:00 Compra Realizada ICA 531 2.040 1,087.03 1,877,124.25\\n06 mar 2017 08:30:00 Compra Realizada GMEXICO.B 551 62.890 34,773.67 1,896,861.62\\n06 mar 2017 08:30:00 Compra Realizada ICA 422 2.040 863.89 1,876,260.38\\n06 mar 2017 08:30:00 Compra Realizada IENOVA 100 87.760 8,806.72 1,867,453.62\\n06 mar 2017 08:30:00 Compra Realizada GMEXICO.B 100 62.890 6,311.01 1,890,550.62\\n06 mar 2017 08:30:00 Compra Realizada ELEKTRA 5 294.150 1,475.90 1,889,074.75\\n06 mar 2017 08:30:00 Compra Realizada CEMEX.CPO 116 17.220 2,004.51 1,881,114.38\\n06 mar 2017 08:30:00 Compra Realizada GRUMA.B 98 267.350 26,292.00 1,801,190.25\\n06 mar 2017 08:30:00 Compra Realizada ASUR.B 13 315.000 4,109.33 1,561,111.00\\n06 mar 2017 08:30:00 Compra Realizada GCARSO.A1 286 87.930 25,236.00 1,974,764.00\\n06 mar 2017 08:30:00 Compra Realizada BIMBO.A 188 46.560 8,783.92 1,965,980.12\\n06 mar 2017 08:30:00 Compra Realizada GRUMA.B 52 267.350 13,950.86 1,787,239.38\\n06 mar 2017 08:30:00 Compra Realizada AMX.L 1,500 13.100 19,718.78 1,764,032.88\\n06 mar 2017 08:30:00 Compra Realizada GAP.B 158 175.370 27,805.44 1,610,749.62\\n06 mar 2017 08:30:00 Compra Realizada ELEKTRA 7 294.150 2,066.26 1,887,008.50\\n06 mar 2017 08:30:00 Compra Realizada CEMEX.CPO 168 17.220 2,903.09 1,878,211.25\\n06 mar 2017 08:30:00 Compra Realizada GRUMA.B 13 267.350 3,487.71 1,783,751.62\\n06 mar 2017 08:30:00 Compra Realizada AMX.L 153 13.100 2,011.32 1,762,021.62\\n06 mar 2017 08:30:00 Compra Realizada TLEVISA.CPO 100 99.590 9,993.86 1,583,169.38\\n06 mar 2017 08:30:00 Compra Realizada GMEXICO.B 100 62.880 6,310.01 1,576,859.38\\n06 mar 2017 08:30:00 Compra Realizada ASUR.B 5 313.950 1,575.24 1,559,535.75\\n06 mar 2017 08:30:00 Compra Realizada ELEKTRA 22 294.990 6,512.49 1,755,509.12\\n06 mar 2017 08:30:00 Compra Realizada GAP.B 100 175.250 17,586.34 1,593,163.25\\n06 mar 2017 08:30:00 Compra Realizada GMEXICO.B 100 62.120 6,233.74 1,570,625.62\\n06 mar 2017 08:30:00 Compra Realizada ASUR.B 5 313.950 1,575.24 1,557,960.50\\n06 mar 2017 08:30:00 Compra Realizada AMX.L 100 13.020 1,306.56 1,521,569.38\\n06 mar 2017 08:30:00 Compra Realizada ASUR.B 10 313.800 3,148.98 1,554,811.50\\n06 mar 2017 08:30:00 Compra Realizada BIMBO.A 200 46.560 9,344.59 1,956,635.50\\n06 mar 2017 08:30:00 Compra Realizada ALFA.A 100 26.000 2,609.10 1,864,844.50\\n06 mar 2017 08:30:00 Compra Realizada ASUR.B 5 313.710 1,574.04 1,553,237.50\\n06 mar 2017 08:30:00 Compra Realizada BIMBO.A 400 46.560 18,689.18 1,937,946.25\\n06 mar 2017 08:30:00 Compra Realizada ALFA.A 100 26.000 2,609.10 1,862,235.50\\n06 mar 2017 08:30:00 Compra Realizada CEMEX.CPO 6,772 17.210 116,954.03 1,638,555.00\\n06 mar 2017 08:30:00 Compra Realizada LALA.B 162 33.250 5,405.35 1,565,220.38\\n06 mar 2017 08:30:00 Compra Realizada ALFA.A 773 26.000 20,168.34 1,842,067.12\\n06 mar 2017 08:30:00 Compra Realizada WALMEX 100 38.760 3,889.57 1,883,118.88\\n06 mar 2017 08:30:00 Compra Realizada ALFA.A 100 26.000 2,609.10 1,839,458.00\\n06 mar 2017 08:30:00 Compra Realizada ALFA.A 459 26.000 11,975.77 1,827,482.25\\n06 mar 2017 08:30:00 Compra Realizada WALMEX 774 39.090 30,361.55 1,522,875.88\\n06 mar 2017 08:30:00 Compra Realizada WALMEX 199 39.090 7,806.14 1,513,763.25\\n06 mar 2017 08:31:00 Compra Realizada AC 100 114.930 11,533.23 1,502,230.00\\n06 mar 2017 08:31:00 Compra Realizada WALMEX 100 39.190 3,932.72 1,498,297.25\\n06 mar 2017 08:31:00 Compra Realizada AMX.L 567 13.020 7,408.18 1,490,889.12\\n06 mar 2017 08:31:00 Compra Realizada PINFRA 60 187.010 11,259.87 1,275,359.38\\n06 mar 2017 08:31:00 Compra Realizada ASUR.B 5 313.570 1,573.34 1,273,786.00\\n06 mar 2017 08:31:00 Compra Realizada GRUMA.B 5 267.340 1,341.38 1,272,444.62\\n06 mar 2017 08:31:00 Compra Realizada MEXCHEM 109 50.880 5,565.33 1,266,879.25\\n06 mar 2017 08:31:00 Compra Realizada LALA.B 380 33.250 12,679.22 1,254,200.12\\n06 mar 2017 08:31:00 Compra Realizada KOF.L 112 132.810 14,926.78 1,239,273.25\\n06 mar 2017 08:31:00 Compra Realizada TLEVISA.CPO 100 100.170 10,052.06 1,094,151.25\\n06 mar 2017 08:31:00 Compra Realizada GFREGIO.O 100 105.700 10,607.00 1,069,793.50\\n06 mar 2017 08:31:00 Compra Realizada AMX.L 1,100 13.020 14,372.13 1,476,517.00\\n06 mar 2017 08:31:00 Compra Realizada KOF.L 776 132.810 103,421.27 1,135,852.00\\n06 mar 2017 08:31:00 Compra Realizada WALMEX 311 39.100 12,202.66 1,110,456.12\\n06 mar 2017 08:31:00 Compra Realizada TLEVISA.CPO 100 100.110 10,046.04 1,084,105.25\\n06 mar 2017 08:31:00 Compra Realizada AMX.L 500 13.020 6,532.79 1,469,984.25\\n06 mar 2017 08:31:00 Compra Realizada KOF.L 99 132.800 13,193.21 1,122,658.75\\n06 mar 2017 08:31:00 Compra Realizada LALA.B 111 33.260 3,704.78 1,080,400.50\\n06 mar 2017 08:31:00 Compra Realizada TLEVISA.CPO 200 100.110 20,092.08 1,049,701.38\\n06 mar 2017 08:31:00 Compra Realizada AMX.L 2,000 13.010 26,111.07 1,443,873.12\\n06 mar 2017 08:31:00 Compra Realizada GMEXICO.B 100 62.310 6,252.81 1,104,203.38\\n06 mar 2017 08:31:00 Compra Realizada TLEVISA.CPO 500 100.110 50,230.19 999,471.19\\n06 mar 2017 08:31:00 Compra Realizada AMX.L 12,045 13.010 157,253.92 1,286,619.25\\n06 mar 2017 08:31:00 Compra Realizada TLEVISA.CPO 200 100.110 20,092.08 979,379.12\\n06 mar 2017 08:31:00 Compra Realizada TLEVISA.CPO 100 100.110 10,046.04 969,333.06\\n06 mar 2017 08:31:00 Compra Realizada TLEVISA.CPO 240 100.130 24,115.31 945,217.75\\n06 mar 2017 08:32:00 Compra Realizada MEXCHEM 107 50.830 5,457.85 857,860.69\\n06 mar 2017 08:32:00 Compra Realizada GRUMA.B 26 267.020 6,966.82 938,250.94\\n06 mar 2017 08:32:00 Compra Realizada OHLMEX 100 21.060 2,113.37 933,726.06\\n06 mar 2017 08:32:00 Compra Realizada WALMEX 100 39.080 3,921.68 923,105.94\\n06 mar 2017 08:32:00 Compra Realizada GMEXICO.B 200 62.860 12,616.00 875,884.31\\n06 mar 2017 08:32:00 Compra Realizada GMEXICO.B 100 62.360 6,257.83 869,626.50\\n06 mar 2017 08:32:00 Compra Realizada GRUMA.B 9 267.010 2,411.50 935,839.44\\n06 mar 2017 08:32:00 Compra Realizada WALMEX 228 39.220 8,973.46 914,132.50\\n06 mar 2017 08:32:00 Compra Realizada GMEXICO.B 100 62.860 6,308.00 863,318.50\\n06 mar 2017 08:32:00 Compra Realizada WALMEX 104 39.220 4,093.16 910,039.31\\n06 mar 2017 08:32:00 Compra Realizada GRUMA.B 9 267.010 2,411.50 931,314.56\\n06 mar 2017 08:32:00 Compra Realizada GRUMA.B 10 267.000 2,679.34 928,635.25\\n06 mar 2017 08:32:00 Compra Realizada WALMEX 100 39.090 3,922.68 904,509.00\\n06 mar 2017 08:32:00 Compra Realizada GRUMA.B 6 267.000 1,607.61 927,027.62\\n06 mar 2017 08:32:00 Compra Realizada GRUMA.B 6 267.010 1,607.67 908,431.62\\n06 mar 2017 08:32:00 Compra Realizada WALMEX 100 39.100 3,923.69 900,585.31\\n06 mar 2017 08:32:00 Compra Realizada WALMEX 308 39.100 12,084.95 888,500.31\\n06 mar 2017 08:32:00 Compra Realizada WALMEX 377 39.100 14,792.29 843,068.38\\n06 mar 2017 08:32:00 Compra Realizada WALMEX 108 39.100 4,237.58 838,830.81\\n06 mar 2017 08:32:00 Compra Realizada WALMEX 143 39.100 5,610.87 833,219.94\\n06 mar 2017 08:33:00 Compra Realizada MEXCHEM 100 50.830 5,100.79 829,116.81\\n06 mar 2017 08:33:00 Compra Realizada GMEXICO.B 100 62.860 6,308.00 822,808.81\\n06 mar 2017 08:33:00 Compra Realizada BIMBO.A 180 46.620 8,420.97 743,652.88\\n06 mar 2017 08:33:00 Compra Realizada OHLMEX 100 21.030 2,110.36 820,698.44\\n06 mar 2017 08:33:00 Compra Realizada GMEXICO.B 400 62.850 25,227.99 787,625.06\\n06 mar 2017 08:33:00 Compra Realizada GMEXICO.B 100 62.850 6,307.00 781,318.06\\n06 mar 2017 08:33:00 Compra Realizada GMEXICO.B 100 62.860 6,308.00 763,239.00\\n06 mar 2017 08:33:00 Compra Realizada GMEXICO.B 177 62.860 11,165.16 752,073.88\\n06 mar 2017 08:33:00 Compra Realizada WALMEX 100 39.090 3,922.68 816,775.75\\n06 mar 2017 08:33:00 Compra Realizada WALMEX 100 39.090 3,922.68 812,853.06\\n06 mar 2017 08:33:00 Compra Realizada WALMEX 300 39.100 11,771.05 769,547.00\\n06 mar 2017 08:33:00 Compra Realizada WALMEX 400 39.100 15,694.74 727,958.12\\n06 mar 2017 08:33:00 Compra Realizada WALMEX 109 39.100 4,276.82 723,681.31\\n06 mar 2017 08:33:20 Dividendo en Efectivo ALFA.A 1,532 0.6512 997.65 834,217.56\\n06 mar 2017 08:34:00 Compra Realizada BIMBO.A 177 46.610 8,278.84 715,402.50\\n06 mar 2017 08:34:00 Compra Realizada WALMEX 291 39.100 11,417.92 699,307.25\\n06 mar 2017 08:34:00 Compra Realizada ASUR.B 13 312.280 4,073.85 670,357.25\\n06 mar 2017 08:34:00 Compra Realizada GFNORTE.O 132 99.210 13,141.55 657,215.69\\n06 mar 2017 08:34:00 Compra Realizada SANMEX.B 100 29.620 2,972.37 654,243.31\\n06 mar 2017 08:34:00 Compra Realizada BIMBO.A 100 46.610 4,677.31 710,725.19\\n06 mar 2017 08:34:00 Compra Realizada WALMEX 100 39.100 3,923.69 695,383.56\\n06 mar 2017 08:34:00 Compra Realizada ASUR.B 50 312.290 15,669.15 630,415.00\\n06 mar 2017 08:34:00 Compra Realizada SANMEX.B 461 29.620 13,702.61 599,267.69\\n06 mar 2017 08:34:00 Compra Realizada WALMEX 226 39.100 8,867.53 686,516.00\\n06 mar 2017 08:34:00 Compra Realizada GFNORTE.O 1,100 99.210 109,512.96 377,417.69\\n06 mar 2017 08:34:00 Compra Realizada SANMEX.B 500 29.620 14,861.83 362,555.88\\n06 mar 2017 08:34:00 Compra Realizada OMA.B 162 97.150 15,793.38 272,544.19\\n06 mar 2017 08:34:00 Compra Realizada OHLMEX 241 21.000 5,078.71 267,465.47\\n06 mar 2017 08:34:00 Compra Realizada MEXCHEM 153 50.830 7,804.21 622,610.75\\n06 mar 2017 08:34:00 Compra Realizada AC 104 114.830 11,984.12 562,060.69\\n06 mar 2017 08:34:00 Compra Realizada ASUR.B 100 312.290 31,338.30 525,779.81\\n06 mar 2017 08:34:00 Compra Realizada SANMEX.B 200 29.620 5,944.73 356,611.12\\n06 mar 2017 08:34:00 Compra Realizada KIMBER.A 1,466 37.910 55,770.58 288,337.56\\n06 mar 2017 08:34:00 Compra Realizada OMA.B 103 97.150 10,041.47 169,509.88\\n06 mar 2017 08:34:00 Compra Realizada IENOVA 115 86.500 9,982.32 153,572.89\\n06 mar 2017 08:34:00 Compra Realizada WALMEX 308 39.100 12,084.95 674,431.06\\n06 mar 2017 08:34:00 Compra Realizada MEXCHEM 189 50.830 9,640.49 612,970.25\\n06 mar 2017 08:34:00 Compra Realizada ASUR.B 35 312.290 10,968.41 514,811.41\\n06 mar 2017 08:34:00 Compra Realizada SANMEX.B 100 29.610 2,971.36 353,639.78\\n06 mar 2017 08:34:00 Compra Realizada GFNORTE.O 677 99.200 67,393.45 194,117.34\\n06 mar 2017 08:34:00 Compra Realizada KIMBER.A 384 37.800 14,566.00 179,551.34\\n06 mar 2017 08:34:00 Compra Realizada BIMBO.A 100 46.600 4,676.31 510,135.12\\n06 mar 2017 08:34:00 Compra Realizada ASUR.B 19 312.310 5,954.66 261,510.80\\n06 mar 2017 08:34:00 Compra Realizada BIMBO.A 100 46.620 4,678.32 505,456.78\\n06 mar 2017 08:34:00 Compra Realizada SANMEX.B 321 29.590 9,531.63 344,108.12\\n06 mar 2017 08:34:00 Compra Realizada ASUR.B 19 312.310 5,954.66 163,555.22\\n06 mar 2017 08:34:00 Compra Realizada IENOVA 258 86.100 22,291.55 131,281.34\\n06 mar 2017 08:34:00 Compra Realizada WALMEX 208 39.090 8,159.18 646,084.12\\n06 mar 2017 08:34:00 Compra Realizada BIMBO.A 396 46.620 18,526.13 486,930.66\\n06 mar 2017 08:34:00 Compra Realizada GFREGIO.O 36 104.770 3,784.92 127,496.43\\n06 mar 2017 08:34:00 Compra Realizada WALMEX 443 39.090 17,377.48 581,890.19\\n06 mar 2017 08:34:00 Compra Realizada WALMEX 100 39.090 3,922.68 577,967.50\\n06 mar 2017 08:34:00 Compra Realizada WALMEX 100 39.090 3,922.68 574,044.81\\n06 mar 2017 08:34:00 Compra Realizada AC 74 114.930 8,534.59 118,961.84\\n06 mar 2017 08:34:00 Compra Realizada WALMEX 126 39.090 4,942.58 557,118.12\\n06 mar 2017 08:35:00 Compra Realizada OMA.B 100 97.200 9,754.02 109,207.82\\n06 mar 2017 08:35:00 Compra Realizada OMA.B 129 97.180 12,580.10 96,627.73\\n06 mar 2017 08:37:00 Compra Realizada IENOVA 51 86.110 4,406.98 92,220.74'}"
      ]
     },
     "execution_count": 20,
     "metadata": {},
     "output_type": "execute_result"
    }
   ],
   "source": [
    "np.load('save_index_changes.npy').item()"
   ]
  },
  {
   "cell_type": "markdown",
   "metadata": {
    "collapsed": true
   },
   "source": [
    "## Save portfolio value"
   ]
  },
  {
   "cell_type": "code",
   "execution_count": 26,
   "metadata": {
    "collapsed": true
   },
   "outputs": [],
   "source": [
    "value = ts.browser.find_element_by_xpath('//span[@class=\"float_right\"]').text"
   ]
  },
  {
   "cell_type": "code",
   "execution_count": 31,
   "metadata": {
    "collapsed": false
   },
   "outputs": [],
   "source": [
    "date = dt.datetime.strftime(dt.datetime.now(),'%Y/%m/%d')"
   ]
  },
  {
   "cell_type": "code",
   "execution_count": 32,
   "metadata": {
    "collapsed": false
   },
   "outputs": [],
   "source": [
    "np.save('index_value.npy',{1:{'date':date,'value':value}})"
   ]
  },
  {
   "cell_type": "code",
   "execution_count": 33,
   "metadata": {
    "collapsed": false
   },
   "outputs": [
    {
     "data": {
      "text/plain": [
       "{1: {'date': '2017/03/06', 'value': '$ 2,020,364.50'}}"
      ]
     },
     "execution_count": 33,
     "metadata": {},
     "output_type": "execute_result"
    }
   ],
   "source": [
    "np.load('index_value.npy').item()"
   ]
  },
  {
   "cell_type": "code",
   "execution_count": 36,
   "metadata": {
    "collapsed": false
   },
   "outputs": [
    {
     "data": {
      "text/plain": [
       "1"
      ]
     },
     "execution_count": 36,
     "metadata": {},
     "output_type": "execute_result"
    }
   ],
   "source": [
    "np.max(list(np.load('index_value.npy').item().keys()))"
   ]
  },
  {
   "cell_type": "code",
   "execution_count": null,
   "metadata": {
    "collapsed": true
   },
   "outputs": [],
   "source": []
  },
  {
   "cell_type": "markdown",
   "metadata": {
    "collapsed": true
   },
   "source": [
    "## Test"
   ]
  },
  {
   "cell_type": "code",
   "execution_count": 1,
   "metadata": {
    "collapsed": true
   },
   "outputs": [],
   "source": [
    "% matplotlib inline\n",
    "import numpy as np\n",
    "import pandas as pd\n",
    "import datetime as dt\n",
    "import matplotlib.pyplot as plt"
   ]
  },
  {
   "cell_type": "code",
   "execution_count": 6,
   "metadata": {
    "collapsed": false
   },
   "outputs": [],
   "source": [
    "log = np.load('index_value.npy').item()"
   ]
  },
  {
   "cell_type": "code",
   "execution_count": 8,
   "metadata": {
    "collapsed": false
   },
   "outputs": [],
   "source": [
    "date = []\n",
    "val  = []\n",
    "for k in log:\n",
    "    date.append(log[k]['date'])\n",
    "    val.append(log[k]['value'])"
   ]
  },
  {
   "cell_type": "code",
   "execution_count": 9,
   "metadata": {
    "collapsed": true
   },
   "outputs": [],
   "source": [
    "def str2float(string):\n",
    "    return np.float(''.join([i for i in string.strip('$').strip(' ') if i != ',']))\n",
    "\n",
    "def str2date(string):\n",
    "    return dt.datetime.strptime(string,'%Y/%m/%d')"
   ]
  },
  {
   "cell_type": "code",
   "execution_count": 15,
   "metadata": {
    "collapsed": false
   },
   "outputs": [
    {
     "data": {
      "text/html": [
       "<div>\n",
       "<table border=\"1\" class=\"dataframe\">\n",
       "  <thead>\n",
       "    <tr style=\"text-align: right;\">\n",
       "      <th></th>\n",
       "      <th>Date</th>\n",
       "      <th>Value</th>\n",
       "    </tr>\n",
       "  </thead>\n",
       "  <tbody>\n",
       "    <tr>\n",
       "      <th>0</th>\n",
       "      <td>2017-03-07</td>\n",
       "      <td>2000000.00</td>\n",
       "    </tr>\n",
       "    <tr>\n",
       "      <th>1</th>\n",
       "      <td>2017-03-08</td>\n",
       "      <td>2001828.38</td>\n",
       "    </tr>\n",
       "    <tr>\n",
       "      <th>2</th>\n",
       "      <td>2017-03-08</td>\n",
       "      <td>2004188.88</td>\n",
       "    </tr>\n",
       "    <tr>\n",
       "      <th>3</th>\n",
       "      <td>2017-03-09</td>\n",
       "      <td>1990262.00</td>\n",
       "    </tr>\n",
       "    <tr>\n",
       "      <th>4</th>\n",
       "      <td>2017-03-12</td>\n",
       "      <td>1981453.38</td>\n",
       "    </tr>\n",
       "    <tr>\n",
       "      <th>5</th>\n",
       "      <td>2017-03-13</td>\n",
       "      <td>1982594.25</td>\n",
       "    </tr>\n",
       "    <tr>\n",
       "      <th>6</th>\n",
       "      <td>2017-03-15</td>\n",
       "      <td>1995187.25</td>\n",
       "    </tr>\n",
       "    <tr>\n",
       "      <th>7</th>\n",
       "      <td>2017-03-16</td>\n",
       "      <td>2020236.62</td>\n",
       "    </tr>\n",
       "    <tr>\n",
       "      <th>8</th>\n",
       "      <td>2017-03-20</td>\n",
       "      <td>2045074.00</td>\n",
       "    </tr>\n",
       "    <tr>\n",
       "      <th>9</th>\n",
       "      <td>2017-03-20</td>\n",
       "      <td>2045074.00</td>\n",
       "    </tr>\n",
       "    <tr>\n",
       "      <th>10</th>\n",
       "      <td>2017-03-22</td>\n",
       "      <td>2046912.25</td>\n",
       "    </tr>\n",
       "  </tbody>\n",
       "</table>\n",
       "</div>"
      ],
      "text/plain": [
       "         Date       Value\n",
       "0  2017-03-07  2000000.00\n",
       "1  2017-03-08  2001828.38\n",
       "2  2017-03-08  2004188.88\n",
       "3  2017-03-09  1990262.00\n",
       "4  2017-03-12  1981453.38\n",
       "5  2017-03-13  1982594.25\n",
       "6  2017-03-15  1995187.25\n",
       "7  2017-03-16  2020236.62\n",
       "8  2017-03-20  2045074.00\n",
       "9  2017-03-20  2045074.00\n",
       "10 2017-03-22  2046912.25"
      ]
     },
     "execution_count": 15,
     "metadata": {},
     "output_type": "execute_result"
    }
   ],
   "source": [
    "df = pd.DataFrame({'Date':list(map(str2date,['2017/03/07']+date)),'Value':list(map(str2float,['2000000']+val))})\n",
    "df"
   ]
  },
  {
   "cell_type": "code",
   "execution_count": 13,
   "metadata": {
    "collapsed": false
   },
   "outputs": [
    {
     "data": {
      "text/plain": [
       "<matplotlib.text.Text at 0x7fa45f5abd30>"
      ]
     },
     "execution_count": 13,
     "metadata": {},
     "output_type": "execute_result"
    },
    {
     "data": {
      "image/png": "[encoded data removed]",
      "text/plain": [
       "<matplotlib.figure.Figure at 0x7fa462e5e6a0>"
      ]
     },
     "metadata": {},
     "output_type": "display_data"
    }
   ],
   "source": [
    "df.plot(x='Date',y='Value',legend=False)\n",
    "plt.grid(True)\n",
    "plt.title('Portfolio Value\\n last_recorded: {}'.format(df.Value.iloc[-1]))"
   ]
  },
  {
   "cell_type": "code",
   "execution_count": 33,
   "metadata": {
    "collapsed": false
   },
   "outputs": [],
   "source": [
    "df.index = df.Date"
   ]
  },
  {
   "cell_type": "code",
   "execution_count": null,
   "metadata": {
    "collapsed": false
   },
   "outputs": [],
   "source": []
  },
  {
   "cell_type": "code",
   "execution_count": 18,
   "metadata": {
    "collapsed": true
   },
   "outputs": [],
   "source": [
    "def scaleValues(y):\n",
    "    y_max = np.max(y)\n",
    "    return y / y_max"
   ]
  },
  {
   "cell_type": "code",
   "execution_count": 16,
   "metadata": {
    "collapsed": true
   },
   "outputs": [],
   "source": [
    "# Determine time-range\n",
    "_from, _to = '2017/03/07', dt.datetime.strftime(dt.datetime.now(),'%Y/%m/%d')\n",
    "ipc = Stock(units='MXN',stock_name='^MXX',t0=_from,tf=_to)\n",
    "ipc.fill()"
   ]
  },
  {
   "cell_type": "code",
   "execution_count": 17,
   "metadata": {
    "collapsed": false
   },
   "outputs": [
    {
     "data": {
      "image/png": "[encoded data removed]",
      "text/plain": [
       "<matplotlib.figure.Figure at 0x7fa462e1ee10>"
      ]
     },
     "metadata": {},
     "output_type": "display_data"
    }
   ],
   "source": [
    "ipc.plot()"
   ]
  },
  {
   "cell_type": "code",
   "execution_count": null,
   "metadata": {
    "collapsed": true
   },
   "outputs": [],
   "source": [
    "# get same dates "
   ]
  },
  {
   "cell_type": "code",
   "execution_count": 31,
   "metadata": {
    "collapsed": false
   },
   "outputs": [],
   "source": [
    "refdates = list(ipc.prices.loc[df.Date].dropna().index)"
   ]
  },
  {
   "cell_type": "code",
   "execution_count": 37,
   "metadata": {
    "collapsed": true
   },
   "outputs": [],
   "source": [
    "ipc_df = ipc.prices.loc[refdates][['Adj_close']]"
   ]
  },
  {
   "cell_type": "code",
   "execution_count": 36,
   "metadata": {
    "collapsed": true
   },
   "outputs": [],
   "source": [
    "df = df.loc[refdates]"
   ]
  },
  {
   "cell_type": "code",
   "execution_count": 44,
   "metadata": {
    "collapsed": true
   },
   "outputs": [],
   "source": [
    "df_temp = df.copy()\n",
    "df_temp['Value'] = scaleValues(df.Value)"
   ]
  },
  {
   "cell_type": "code",
   "execution_count": 64,
   "metadata": {
    "collapsed": true
   },
   "outputs": [],
   "source": [
    "def getReturns(x):\n",
    "    return x[1:]/x[:-1] -1\n"
   ]
  },
  {
   "cell_type": "code",
   "execution_count": 66,
   "metadata": {
    "collapsed": false
   },
   "outputs": [
    {
     "data": {
      "image/png": "[encoded data removed]",
      "text/plain": [
       "<matplotlib.figure.Figure at 0x7fa45dca12b0>"
      ]
     },
     "metadata": {},
     "output_type": "display_data"
    },
    {
     "data": {
      "image/png": "[encoded data removed]",
      "text/plain": [
       "<matplotlib.figure.Figure at 0x7fa45d7a1668>"
      ]
     },
     "metadata": {},
     "output_type": "display_data"
    },
    {
     "name": "stdout",
     "output_type": "stream",
     "text": [
      "Sharpe: 0.0003823484535764505\n"
     ]
    }
   ],
   "source": [
    "#plt.plot(df.index,scaleValues(df.Value),'r')\n",
    "df_temp.plot(c='g')\n",
    "plt.plot(ipc_df.index,scaleValues(ipc_df.Adj_close),'b')\n",
    "plt.legend(['Replicator','RealValue'])\n",
    "plt.title('IPC and replicator at scale')\n",
    "plt.show()\n",
    "\n",
    "temp = (df_temp.Value - scaleValues(ipc_df.Adj_close))\n",
    "sharpe = (np.mean(getReturns(df_temp.Value))-np.mean(getReturns(ipc_df.Adj_close))) / np.std(getReturns(df_temp.Value))\n",
    "temp.plot(c='r')\n",
    "plt.title('Recorded error\\nMSE: {}'.format(temp.apply(lambda x: x**2).mean()))\n",
    "plt.grid(True)\n",
    "plt.show()\n",
    "print('Sharpe: {}'.format(sharpe))"
   ]
  },
  {
   "cell_type": "code",
   "execution_count": 58,
   "metadata": {
    "collapsed": false
   },
   "outputs": [],
   "source": []
  },
  {
   "cell_type": "code",
   "execution_count": 67,
   "metadata": {
    "collapsed": false
   },
   "outputs": [],
   "source": [
    "log_ = np.load('reference_.npy')"
   ]
  },
  {
   "cell_type": "code",
   "execution_count": 71,
   "metadata": {
    "collapsed": false
   },
   "outputs": [
    {
     "name": "stdout",
     "output_type": "stream",
     "text": [
      "['AC' '274'] \t\n",
      "['ALFA.A' '1506'] \t\n",
      "['ALSEA' '3'] \t\n",
      "['AMX.L' '17936'] \t\n",
      "['ASUR.B' '279'] \n",
      "\n",
      "['BIMBO.A' '1840'] \t\n",
      "['CEMEX.CPO' '7039'] \t\n",
      "['ELEKTRA' '33'] \t\n",
      "['GAP.B' '259'] \t\n",
      "['GCARSO.A1' '282'] \n",
      "\n",
      "['GFNORTE.O' '1903'] \t\n",
      "['GFREGIO.O' '137'] \t\n",
      "['GMEXICO.B' '2330'] \t\n",
      "['GRUMA.B' '234'] \t\n",
      "['ICA' '913'] \n",
      "\n",
      "['IENOVA' '526'] \t\n",
      "['KIMBER.A' '1844'] \t\n",
      "['KOF.L' '987'] \t\n",
      "['LALA.B' '641'] \t\n",
      "['MEXCHEM' '712'] \n",
      "\n",
      "['OHLMEX' '446'] \t\n",
      "['OMA.B' '492'] \t\n",
      "['PINFRA' '61'] \t\n",
      "['SANMEX.B' '1679'] \t\n",
      "['TLEVISA.CPO' '1543'] \n",
      "\n",
      "['WALMEX' '5960'] \t\n"
     ]
    }
   ],
   "source": [
    "cont = 1\n",
    "for i in log_:\n",
    "    sep = '\\t' if cont%5 else '\\n'\n",
    "    print(i,sep)\n",
    "    cont += 1"
   ]
  },
  {
   "cell_type": "code",
   "execution_count": null,
   "metadata": {
    "collapsed": true
   },
   "outputs": [],
   "source": []
  }
 ],
 "metadata": {
  "anaconda-cloud": {},
  "kernelspec": {
   "display_name": "Python [default]",
   "language": "python",
   "name": "python3"
  },
  "language_info": {
   "codemirror_mode": {
    "name": "ipython",
    "version": 3
   },
   "file_extension": ".py",
   "mimetype": "text/x-python",
   "name": "python",
   "nbconvert_exporter": "python",
   "pygments_lexer": "ipython3",
   "version": "3.5.2"
  }
 },
 "nbformat": 4,
 "nbformat_minor": 1
}
