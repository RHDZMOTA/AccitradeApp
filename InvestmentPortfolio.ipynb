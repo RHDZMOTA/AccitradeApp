{
 "cells": [
  {
   "cell_type": "markdown",
   "metadata": {},
   "source": [
    "# Static Investment \n",
    "\n",
    "Rodrigo Hernández Mota "
   ]
  },
  {
   "cell_type": "code",
   "execution_count": 50,
   "metadata": {
    "collapsed": true
   },
   "outputs": [],
   "source": [
    "# Import libraries\n",
    "% matplotlib inline\n",
    "\n",
    "import datetime as dt\n",
    "import numpy as np\n",
    "import pandas as pd\n",
    "import time \n",
    "\n",
    "from cvxopt import matrix, solvers  \n",
    "from trading_session import * \n",
    "from financial_series.everything import * \n",
    "from financial_series.stationary_test import adf\n",
    "from metallic_blue_lizard.neural_net import adaline"
   ]
  },
  {
   "cell_type": "markdown",
   "metadata": {},
   "source": [
    "## Download Prices "
   ]
  },
  {
   "cell_type": "code",
   "execution_count": 4,
   "metadata": {
    "collapsed": true
   },
   "outputs": [],
   "source": [
    "# Determine time-range\n",
    "_from, _to = '2016/01/01', dt.datetime.strftime(dt.datetime.now(),'%Y/%m/%d')"
   ]
  },
  {
   "cell_type": "code",
   "execution_count": 5,
   "metadata": {
    "collapsed": false
   },
   "outputs": [
    {
     "name": "stdout",
     "output_type": "stream",
     "text": [
      "['AC', 'ALFA.A', 'ALSEA', 'AMX.L', 'ASUR.B', 'BIMBO.A', 'CEMEX.CPO', 'ELEKTRA', 'FEMSA.UBD', 'GAP.B', 'GCARSO.A1', 'GENTERA', 'GFINBUR.O', 'GFNORTE.O', 'GFREGIO.O', 'GMEXICO.B', 'GRUMA.B', 'ICA', 'ICH.B', 'IENOVA', 'KIMBER.A', 'KOF.L', 'LAB.B', 'LACOMER.UBC', 'LALA.B', 'LIVEPOL.C1', 'MEXCHEM', 'NAFTRAC.ISHRS', 'NEMAK.A', 'OHLMEX', 'OMA.B', 'PENOLES', 'PINFRA', 'SANMEX.B', 'SIMEC.B', 'TLEVISA.CPO', 'WALMEX']\n"
     ]
    }
   ],
   "source": [
    "# Get available stocks\n",
    "\n",
    "# create instance of TradingSession object \n",
    "ts = TradingSession(user='sd8892',pw='Mexico0r',alias='Trading Session')\n",
    "\n",
    "# query available stocks \n",
    "available_stocks = ts.getOptions()\n",
    "print(available_stocks)\n",
    "\n",
    "# close session\n",
    "ts.close()\n"
   ]
  },
  {
   "cell_type": "code",
   "execution_count": 6,
   "metadata": {
    "collapsed": true
   },
   "outputs": [],
   "source": [
    "available_stocks = [i for i in available_stocks if i != 'NAFTRAC.ISHRS']"
   ]
  },
  {
   "cell_type": "code",
   "execution_count": 7,
   "metadata": {
    "collapsed": false
   },
   "outputs": [
    {
     "name": "stdout",
     "output_type": "stream",
     "text": [
      "\n",
      "- Downloading data: AC.MX : (MXN) Done.\n",
      "\n",
      "- Downloading data: ALFAA.MX : (MXN) Done.\n",
      "\n",
      "- Downloading data: ALSEA.MX : (MXN) Done.\n",
      "\n",
      "- Downloading data: AMXL.MX : (MXN) Done.\n",
      "\n",
      "- Downloading data: ASURB.MX : (MXN) Done.\n",
      "\n",
      "- Downloading data: BIMBOA.MX : (MXN) Done.\n",
      "\n",
      "- Downloading data: CEMEXCPO.MX : (MXN) Done.\n",
      "\n",
      "- Downloading data: ELEKTRA.MX : (MXN) Done.\n",
      "\n",
      "- Downloading data: FEMSAUBD.MX : (MXN) \n",
      "\t>> Error: cannot download data: FEMSAUBD.MX : (MXN)\n",
      "\n",
      "\n",
      "- Downloading data: GAPB.MX : (MXN) Done.\n",
      "\n",
      "- Downloading data: GCARSOA1.MX : (MXN) Done.\n",
      "\n",
      "- Downloading data: GENTERA.MX : (MXN) Done.\n",
      "\n",
      "- Downloading data: GFINBURO.MX : (MXN) Done.\n",
      "\n",
      "- Downloading data: GFNORTEO.MX : (MXN) Done.\n",
      "\n",
      "- Downloading data: GFREGIOO.MX : (MXN) Done.\n",
      "\n",
      "- Downloading data: GMEXICOB.MX : (MXN) Done.\n",
      "\n",
      "- Downloading data: GRUMAB.MX : (MXN) Done.\n",
      "\n",
      "- Downloading data: ICA.MX : (MXN) Done.\n",
      "\n",
      "- Downloading data: ICHB.MX : (MXN) Done.\n",
      "\n",
      "- Downloading data: IENOVA.MX : (MXN) Done.\n",
      "\n",
      "- Downloading data: KIMBERA.MX : (MXN) Done.\n",
      "\n",
      "- Downloading data: KOFL.MX : (MXN) Done.\n",
      "\n",
      "- Downloading data: LABB.MX : (MXN) Done.\n",
      "\n",
      "- Downloading data: LACOMERUBC.MX : (MXN) \n",
      "\t>> Error: cannot download data: LACOMERUBC.MX : (MXN)\n",
      "\n",
      "\n",
      "- Downloading data: LALAB.MX : (MXN) Done.\n",
      "\n",
      "- Downloading data: LIVEPOLC1.MX : (MXN) \n",
      "\t>> Error: cannot download data: LIVEPOLC1.MX : (MXN)\n",
      "\n",
      "\n",
      "- Downloading data: MEXCHEM.MX : (MXN) Done.\n",
      "\n",
      "- Downloading data: NEMAKA.MX : (MXN) Done.\n",
      "\n",
      "- Downloading data: OHLMEX.MX : (MXN) Done.\n",
      "\n",
      "- Downloading data: OMAB.MX : (MXN) Done.\n",
      "\n",
      "- Downloading data: PENOLES.MX : (MXN) \n",
      "\t>> Error: cannot download data: PENOLES.MX : (MXN)\n",
      "\n",
      "\n",
      "- Downloading data: PINFRA.MX : (MXN) Done.\n",
      "\n",
      "- Downloading data: SANMEXB.MX : (MXN) Done.\n",
      "\n",
      "- Downloading data: SIMECB.MX : (MXN) Done.\n",
      "\n",
      "- Downloading data: TLEVISACPO.MX : (MXN) Done.\n",
      "\n",
      "- Downloading data: WALMEX.MX : (MXN) Done.\n",
      "\n",
      "Total Errors: 4\n"
     ]
    }
   ],
   "source": [
    "# Create list of Stock instances.\n",
    "obj = list(map(lambda x: \n",
    "               Stock(units='MXN',stock_name=yahoo_dict[x],t0=_from,tf=_to), \n",
    "               available_stocks))\n",
    "\n",
    "# Save information in stocks dictionary \n",
    "stocks = {}\n",
    "total_errors = 0\n",
    "for i,j in zip(obj,available_stocks):\n",
    "    print('\\n- Downloading data: {}'.format(i.name()),end=' ')\n",
    "    try:\n",
    "        i.fill()\n",
    "    except:\n",
    "        print('\\n\\t>> Error: cannot download data: {}\\n'.format(i.name()))\n",
    "        total_errors += 1\n",
    "        continue\n",
    "    stocks[j] = i\n",
    "    print('Done.')\n",
    "\n",
    "# print total of unavailable stock information \n",
    "del obj\n",
    "print('\\nTotal Errors: {}'.format(total_errors))"
   ]
  },
  {
   "cell_type": "markdown",
   "metadata": {},
   "source": [
    "## Match dates for prices and returns "
   ]
  },
  {
   "cell_type": "code",
   "execution_count": 8,
   "metadata": {
    "collapsed": true
   },
   "outputs": [],
   "source": [
    "def getAllPrices(dct):\n",
    "    \n",
    "    # get first item \n",
    "    first = list(dct.keys())[0]\n",
    "    price = {first:dct[first].prices.Adj_close}\n",
    "    price = pd.DataFrame(price, index=price[first].index)\n",
    "    \n",
    "    # get other items \n",
    "    for k in dct:\n",
    "        \n",
    "        if k in [first]:\n",
    "            continue\n",
    "        \n",
    "        # calculate temporal dataframe \n",
    "        temp = {k:dct[k].prices.Adj_close}\n",
    "        temp = pd.DataFrame(temp, index=temp[k].index)\n",
    "        \n",
    "        # concatenate\n",
    "        price = pd.concat([price, temp],axis=1).dropna()\n",
    "        \n",
    "    return price\n",
    "\n",
    "def getAllReturns(dct, _type='log'):\n",
    "    \n",
    "    prices = getAllPrices(dct)\n",
    "    returns = {}\n",
    "    for i in prices:\n",
    "        temp = prices[i].values\n",
    "        if _type == 'log':\n",
    "            returns[i] = np.log(temp[1:] / temp[:-1])\n",
    "        if _type == 'nor' or _type == 'simple' or _type == 'sim':\n",
    "            returns[i] = temp[1:] / temp[:-1] - 1\n",
    "    return pd.DataFrame(returns, index=prices.index[1:])"
   ]
  },
  {
   "cell_type": "code",
   "execution_count": 9,
   "metadata": {
    "collapsed": true
   },
   "outputs": [],
   "source": [
    "prices = getAllPrices(stocks)\n",
    "returns = getAllReturns(stocks, _type='log')"
   ]
  },
  {
   "cell_type": "code",
   "execution_count": 10,
   "metadata": {
    "collapsed": false
   },
   "outputs": [
    {
     "data": {
      "text/html": [
       "<div>\n",
       "<table border=\"1\" class=\"dataframe\">\n",
       "  <thead>\n",
       "    <tr style=\"text-align: right;\">\n",
       "      <th></th>\n",
       "      <th>NEMAK.A</th>\n",
       "      <th>CEMEX.CPO</th>\n",
       "      <th>LALA.B</th>\n",
       "      <th>AC</th>\n",
       "      <th>KIMBER.A</th>\n",
       "      <th>ASUR.B</th>\n",
       "      <th>ICH.B</th>\n",
       "      <th>GFINBUR.O</th>\n",
       "      <th>ALSEA</th>\n",
       "      <th>OMA.B</th>\n",
       "      <th>...</th>\n",
       "      <th>IENOVA</th>\n",
       "      <th>GCARSO.A1</th>\n",
       "      <th>MEXCHEM</th>\n",
       "      <th>WALMEX</th>\n",
       "      <th>GMEXICO.B</th>\n",
       "      <th>GAP.B</th>\n",
       "      <th>SANMEX.B</th>\n",
       "      <th>KOF.L</th>\n",
       "      <th>SIMEC.B</th>\n",
       "      <th>ALFA.A</th>\n",
       "    </tr>\n",
       "    <tr>\n",
       "      <th>Date</th>\n",
       "      <th></th>\n",
       "      <th></th>\n",
       "      <th></th>\n",
       "      <th></th>\n",
       "      <th></th>\n",
       "      <th></th>\n",
       "      <th></th>\n",
       "      <th></th>\n",
       "      <th></th>\n",
       "      <th></th>\n",
       "      <th></th>\n",
       "      <th></th>\n",
       "      <th></th>\n",
       "      <th></th>\n",
       "      <th></th>\n",
       "      <th></th>\n",
       "      <th></th>\n",
       "      <th></th>\n",
       "      <th></th>\n",
       "      <th></th>\n",
       "      <th></th>\n",
       "    </tr>\n",
       "  </thead>\n",
       "  <tbody>\n",
       "    <tr>\n",
       "      <th>2016-01-01</th>\n",
       "      <td>23.24</td>\n",
       "      <td>9.06731</td>\n",
       "      <td>39.35</td>\n",
       "      <td>103.04</td>\n",
       "      <td>37.31225</td>\n",
       "      <td>239.17</td>\n",
       "      <td>55.67</td>\n",
       "      <td>30.68771</td>\n",
       "      <td>59.19761</td>\n",
       "      <td>80.73</td>\n",
       "      <td>...</td>\n",
       "      <td>72.22</td>\n",
       "      <td>70.19526</td>\n",
       "      <td>38.03113</td>\n",
       "      <td>42.74808</td>\n",
       "      <td>36.34171</td>\n",
       "      <td>145.83</td>\n",
       "      <td>27.79305</td>\n",
       "      <td>121.07</td>\n",
       "      <td>38.52</td>\n",
       "      <td>34.023</td>\n",
       "    </tr>\n",
       "    <tr>\n",
       "      <th>2016-01-04</th>\n",
       "      <td>23.16</td>\n",
       "      <td>8.76923</td>\n",
       "      <td>39.18</td>\n",
       "      <td>100.49</td>\n",
       "      <td>36.19390</td>\n",
       "      <td>233.68</td>\n",
       "      <td>54.93</td>\n",
       "      <td>29.55295</td>\n",
       "      <td>58.28764</td>\n",
       "      <td>78.96</td>\n",
       "      <td>...</td>\n",
       "      <td>72.86</td>\n",
       "      <td>69.05798</td>\n",
       "      <td>38.23857</td>\n",
       "      <td>42.10917</td>\n",
       "      <td>35.27487</td>\n",
       "      <td>142.50</td>\n",
       "      <td>27.06721</td>\n",
       "      <td>117.54</td>\n",
       "      <td>38.02</td>\n",
       "      <td>33.663</td>\n",
       "    </tr>\n",
       "    <tr>\n",
       "      <th>2016-01-05</th>\n",
       "      <td>22.75</td>\n",
       "      <td>8.64423</td>\n",
       "      <td>39.42</td>\n",
       "      <td>99.54</td>\n",
       "      <td>35.94435</td>\n",
       "      <td>228.52</td>\n",
       "      <td>54.70</td>\n",
       "      <td>29.20759</td>\n",
       "      <td>58.76241</td>\n",
       "      <td>78.77</td>\n",
       "      <td>...</td>\n",
       "      <td>71.36</td>\n",
       "      <td>69.91835</td>\n",
       "      <td>38.10028</td>\n",
       "      <td>41.93224</td>\n",
       "      <td>36.00585</td>\n",
       "      <td>141.88</td>\n",
       "      <td>27.30609</td>\n",
       "      <td>116.10</td>\n",
       "      <td>37.58</td>\n",
       "      <td>33.913</td>\n",
       "    </tr>\n",
       "    <tr>\n",
       "      <th>2016-01-06</th>\n",
       "      <td>22.57</td>\n",
       "      <td>8.62500</td>\n",
       "      <td>39.43</td>\n",
       "      <td>100.90</td>\n",
       "      <td>36.16617</td>\n",
       "      <td>227.48</td>\n",
       "      <td>53.97</td>\n",
       "      <td>28.80303</td>\n",
       "      <td>58.54481</td>\n",
       "      <td>79.21</td>\n",
       "      <td>...</td>\n",
       "      <td>70.83</td>\n",
       "      <td>69.69090</td>\n",
       "      <td>37.59649</td>\n",
       "      <td>41.65701</td>\n",
       "      <td>35.13657</td>\n",
       "      <td>140.98</td>\n",
       "      <td>27.26016</td>\n",
       "      <td>117.57</td>\n",
       "      <td>37.50</td>\n",
       "      <td>33.574</td>\n",
       "    </tr>\n",
       "    <tr>\n",
       "      <th>2016-01-07</th>\n",
       "      <td>21.98</td>\n",
       "      <td>7.94231</td>\n",
       "      <td>38.61</td>\n",
       "      <td>99.58</td>\n",
       "      <td>36.19390</td>\n",
       "      <td>226.25</td>\n",
       "      <td>52.58</td>\n",
       "      <td>28.14191</td>\n",
       "      <td>56.30945</td>\n",
       "      <td>78.15</td>\n",
       "      <td>...</td>\n",
       "      <td>72.19</td>\n",
       "      <td>67.39655</td>\n",
       "      <td>36.01598</td>\n",
       "      <td>39.30779</td>\n",
       "      <td>34.58339</td>\n",
       "      <td>135.54</td>\n",
       "      <td>26.18518</td>\n",
       "      <td>117.45</td>\n",
       "      <td>36.66</td>\n",
       "      <td>31.389</td>\n",
       "    </tr>\n",
       "  </tbody>\n",
       "</table>\n",
       "<p>5 rows × 32 columns</p>\n",
       "</div>"
      ],
      "text/plain": [
       "            NEMAK.A  CEMEX.CPO  LALA.B      AC  KIMBER.A  ASUR.B  ICH.B  \\\n",
       "Date                                                                      \n",
       "2016-01-01    23.24    9.06731   39.35  103.04  37.31225  239.17  55.67   \n",
       "2016-01-04    23.16    8.76923   39.18  100.49  36.19390  233.68  54.93   \n",
       "2016-01-05    22.75    8.64423   39.42   99.54  35.94435  228.52  54.70   \n",
       "2016-01-06    22.57    8.62500   39.43  100.90  36.16617  227.48  53.97   \n",
       "2016-01-07    21.98    7.94231   38.61   99.58  36.19390  226.25  52.58   \n",
       "\n",
       "            GFINBUR.O     ALSEA  OMA.B   ...    IENOVA  GCARSO.A1   MEXCHEM  \\\n",
       "Date                                     ...                                  \n",
       "2016-01-01   30.68771  59.19761  80.73   ...     72.22   70.19526  38.03113   \n",
       "2016-01-04   29.55295  58.28764  78.96   ...     72.86   69.05798  38.23857   \n",
       "2016-01-05   29.20759  58.76241  78.77   ...     71.36   69.91835  38.10028   \n",
       "2016-01-06   28.80303  58.54481  79.21   ...     70.83   69.69090  37.59649   \n",
       "2016-01-07   28.14191  56.30945  78.15   ...     72.19   67.39655  36.01598   \n",
       "\n",
       "              WALMEX  GMEXICO.B   GAP.B  SANMEX.B   KOF.L  SIMEC.B  ALFA.A  \n",
       "Date                                                                        \n",
       "2016-01-01  42.74808   36.34171  145.83  27.79305  121.07    38.52  34.023  \n",
       "2016-01-04  42.10917   35.27487  142.50  27.06721  117.54    38.02  33.663  \n",
       "2016-01-05  41.93224   36.00585  141.88  27.30609  116.10    37.58  33.913  \n",
       "2016-01-06  41.65701   35.13657  140.98  27.26016  117.57    37.50  33.574  \n",
       "2016-01-07  39.30779   34.58339  135.54  26.18518  117.45    36.66  31.389  \n",
       "\n",
       "[5 rows x 32 columns]"
      ]
     },
     "execution_count": 10,
     "metadata": {},
     "output_type": "execute_result"
    }
   ],
   "source": [
    "prices.head()"
   ]
  },
  {
   "cell_type": "code",
   "execution_count": 11,
   "metadata": {
    "collapsed": false
   },
   "outputs": [
    {
     "data": {
      "text/html": [
       "<div>\n",
       "<table border=\"1\" class=\"dataframe\">\n",
       "  <thead>\n",
       "    <tr style=\"text-align: right;\">\n",
       "      <th></th>\n",
       "      <th>AC</th>\n",
       "      <th>ALFA.A</th>\n",
       "      <th>ALSEA</th>\n",
       "      <th>AMX.L</th>\n",
       "      <th>ASUR.B</th>\n",
       "      <th>BIMBO.A</th>\n",
       "      <th>CEMEX.CPO</th>\n",
       "      <th>ELEKTRA</th>\n",
       "      <th>GAP.B</th>\n",
       "      <th>GCARSO.A1</th>\n",
       "      <th>...</th>\n",
       "      <th>LALA.B</th>\n",
       "      <th>MEXCHEM</th>\n",
       "      <th>NEMAK.A</th>\n",
       "      <th>OHLMEX</th>\n",
       "      <th>OMA.B</th>\n",
       "      <th>PINFRA</th>\n",
       "      <th>SANMEX.B</th>\n",
       "      <th>SIMEC.B</th>\n",
       "      <th>TLEVISA.CPO</th>\n",
       "      <th>WALMEX</th>\n",
       "    </tr>\n",
       "    <tr>\n",
       "      <th>Date</th>\n",
       "      <th></th>\n",
       "      <th></th>\n",
       "      <th></th>\n",
       "      <th></th>\n",
       "      <th></th>\n",
       "      <th></th>\n",
       "      <th></th>\n",
       "      <th></th>\n",
       "      <th></th>\n",
       "      <th></th>\n",
       "      <th></th>\n",
       "      <th></th>\n",
       "      <th></th>\n",
       "      <th></th>\n",
       "      <th></th>\n",
       "      <th></th>\n",
       "      <th></th>\n",
       "      <th></th>\n",
       "      <th></th>\n",
       "      <th></th>\n",
       "      <th></th>\n",
       "    </tr>\n",
       "  </thead>\n",
       "  <tbody>\n",
       "    <tr>\n",
       "      <th>2016-01-04</th>\n",
       "      <td>-0.025059</td>\n",
       "      <td>-0.010637</td>\n",
       "      <td>-0.015491</td>\n",
       "      <td>-0.007453</td>\n",
       "      <td>-0.023222</td>\n",
       "      <td>-0.020445</td>\n",
       "      <td>-0.033427</td>\n",
       "      <td>-0.028417</td>\n",
       "      <td>-0.023100</td>\n",
       "      <td>-0.016334</td>\n",
       "      <td>...</td>\n",
       "      <td>-0.004330</td>\n",
       "      <td>0.005440</td>\n",
       "      <td>-0.003448</td>\n",
       "      <td>-0.001696</td>\n",
       "      <td>-0.022169</td>\n",
       "      <td>0.000986</td>\n",
       "      <td>-0.026463</td>\n",
       "      <td>-0.013065</td>\n",
       "      <td>-0.018357</td>\n",
       "      <td>-0.015059</td>\n",
       "    </tr>\n",
       "    <tr>\n",
       "      <th>2016-01-05</th>\n",
       "      <td>-0.009499</td>\n",
       "      <td>0.007399</td>\n",
       "      <td>0.008112</td>\n",
       "      <td>-0.005000</td>\n",
       "      <td>-0.022329</td>\n",
       "      <td>0.016521</td>\n",
       "      <td>-0.014357</td>\n",
       "      <td>-0.030657</td>\n",
       "      <td>-0.004360</td>\n",
       "      <td>0.012382</td>\n",
       "      <td>...</td>\n",
       "      <td>0.006107</td>\n",
       "      <td>-0.003623</td>\n",
       "      <td>-0.017862</td>\n",
       "      <td>0.007892</td>\n",
       "      <td>-0.002409</td>\n",
       "      <td>0.003100</td>\n",
       "      <td>0.008787</td>\n",
       "      <td>-0.011640</td>\n",
       "      <td>-0.007940</td>\n",
       "      <td>-0.004211</td>\n",
       "    </tr>\n",
       "    <tr>\n",
       "      <th>2016-01-06</th>\n",
       "      <td>0.013570</td>\n",
       "      <td>-0.010046</td>\n",
       "      <td>-0.003710</td>\n",
       "      <td>-0.019402</td>\n",
       "      <td>-0.004561</td>\n",
       "      <td>0.004359</td>\n",
       "      <td>-0.002227</td>\n",
       "      <td>-0.041837</td>\n",
       "      <td>-0.006364</td>\n",
       "      <td>-0.003258</td>\n",
       "      <td>...</td>\n",
       "      <td>0.000254</td>\n",
       "      <td>-0.013311</td>\n",
       "      <td>-0.007944</td>\n",
       "      <td>-0.005066</td>\n",
       "      <td>0.005570</td>\n",
       "      <td>-0.018643</td>\n",
       "      <td>-0.001683</td>\n",
       "      <td>-0.002131</td>\n",
       "      <td>-0.016295</td>\n",
       "      <td>-0.006585</td>\n",
       "    </tr>\n",
       "    <tr>\n",
       "      <th>2016-01-07</th>\n",
       "      <td>-0.013169</td>\n",
       "      <td>-0.067294</td>\n",
       "      <td>-0.038930</td>\n",
       "      <td>-0.034665</td>\n",
       "      <td>-0.005422</td>\n",
       "      <td>0.004560</td>\n",
       "      <td>-0.082461</td>\n",
       "      <td>-0.025130</td>\n",
       "      <td>-0.039351</td>\n",
       "      <td>-0.033476</td>\n",
       "      <td>...</td>\n",
       "      <td>-0.021016</td>\n",
       "      <td>-0.042948</td>\n",
       "      <td>-0.026489</td>\n",
       "      <td>-0.023410</td>\n",
       "      <td>-0.013472</td>\n",
       "      <td>-0.015386</td>\n",
       "      <td>-0.040233</td>\n",
       "      <td>-0.022655</td>\n",
       "      <td>-0.002000</td>\n",
       "      <td>-0.058047</td>\n",
       "    </tr>\n",
       "    <tr>\n",
       "      <th>2016-01-08</th>\n",
       "      <td>-0.000904</td>\n",
       "      <td>-0.020893</td>\n",
       "      <td>-0.003343</td>\n",
       "      <td>-0.037741</td>\n",
       "      <td>-0.004163</td>\n",
       "      <td>0.008195</td>\n",
       "      <td>-0.061155</td>\n",
       "      <td>-0.013723</td>\n",
       "      <td>0.016972</td>\n",
       "      <td>-0.000587</td>\n",
       "      <td>...</td>\n",
       "      <td>0.009537</td>\n",
       "      <td>-0.001373</td>\n",
       "      <td>0.046665</td>\n",
       "      <td>0.000578</td>\n",
       "      <td>-0.016254</td>\n",
       "      <td>-0.019607</td>\n",
       "      <td>-0.008810</td>\n",
       "      <td>0.003812</td>\n",
       "      <td>0.015123</td>\n",
       "      <td>0.025674</td>\n",
       "    </tr>\n",
       "  </tbody>\n",
       "</table>\n",
       "<p>5 rows × 32 columns</p>\n",
       "</div>"
      ],
      "text/plain": [
       "                  AC    ALFA.A     ALSEA     AMX.L    ASUR.B   BIMBO.A  \\\n",
       "Date                                                                     \n",
       "2016-01-04 -0.025059 -0.010637 -0.015491 -0.007453 -0.023222 -0.020445   \n",
       "2016-01-05 -0.009499  0.007399  0.008112 -0.005000 -0.022329  0.016521   \n",
       "2016-01-06  0.013570 -0.010046 -0.003710 -0.019402 -0.004561  0.004359   \n",
       "2016-01-07 -0.013169 -0.067294 -0.038930 -0.034665 -0.005422  0.004560   \n",
       "2016-01-08 -0.000904 -0.020893 -0.003343 -0.037741 -0.004163  0.008195   \n",
       "\n",
       "            CEMEX.CPO   ELEKTRA     GAP.B  GCARSO.A1    ...       LALA.B  \\\n",
       "Date                                                    ...                \n",
       "2016-01-04  -0.033427 -0.028417 -0.023100  -0.016334    ...    -0.004330   \n",
       "2016-01-05  -0.014357 -0.030657 -0.004360   0.012382    ...     0.006107   \n",
       "2016-01-06  -0.002227 -0.041837 -0.006364  -0.003258    ...     0.000254   \n",
       "2016-01-07  -0.082461 -0.025130 -0.039351  -0.033476    ...    -0.021016   \n",
       "2016-01-08  -0.061155 -0.013723  0.016972  -0.000587    ...     0.009537   \n",
       "\n",
       "             MEXCHEM   NEMAK.A    OHLMEX     OMA.B    PINFRA  SANMEX.B  \\\n",
       "Date                                                                     \n",
       "2016-01-04  0.005440 -0.003448 -0.001696 -0.022169  0.000986 -0.026463   \n",
       "2016-01-05 -0.003623 -0.017862  0.007892 -0.002409  0.003100  0.008787   \n",
       "2016-01-06 -0.013311 -0.007944 -0.005066  0.005570 -0.018643 -0.001683   \n",
       "2016-01-07 -0.042948 -0.026489 -0.023410 -0.013472 -0.015386 -0.040233   \n",
       "2016-01-08 -0.001373  0.046665  0.000578 -0.016254 -0.019607 -0.008810   \n",
       "\n",
       "             SIMEC.B  TLEVISA.CPO    WALMEX  \n",
       "Date                                         \n",
       "2016-01-04 -0.013065    -0.018357 -0.015059  \n",
       "2016-01-05 -0.011640    -0.007940 -0.004211  \n",
       "2016-01-06 -0.002131    -0.016295 -0.006585  \n",
       "2016-01-07 -0.022655    -0.002000 -0.058047  \n",
       "2016-01-08  0.003812     0.015123  0.025674  \n",
       "\n",
       "[5 rows x 32 columns]"
      ]
     },
     "execution_count": 11,
     "metadata": {},
     "output_type": "execute_result"
    }
   ],
   "source": [
    "returns.head()"
   ]
  },
  {
   "cell_type": "markdown",
   "metadata": {},
   "source": [
    "## Determine portfolio via Markowitz and quadratic programming "
   ]
  },
  {
   "cell_type": "code",
   "execution_count": 12,
   "metadata": {
    "collapsed": true
   },
   "outputs": [],
   "source": [
    "def getSolutionMkw(returns,alpha_1=1,alpha_2=1):\n",
    "    \"\"\"\n",
    "    Returns an optim.porfolio f\n",
    "    \"\"\"\n",
    "    solvers.options['show_progress'] = False\n",
    "    \n",
    "    # number of variables\n",
    "    r = returns.shape[1]\n",
    "    \n",
    "    # mean and covariance\n",
    "    _mean = returns.mean()\n",
    "    _cov  = returns.cov()\n",
    "\n",
    "    # parameters\n",
    "    P = matrix(alpha_2*_cov.values)\n",
    "    Q = matrix(-alpha_1*_mean.values)\n",
    "    G = matrix(-1.*np.identity(r))\n",
    "    h = matrix([0. for i in range(r)])\n",
    "    A = matrix([1. for i in range(r)], (1,r))\n",
    "    b = matrix(1.)\n",
    "    \n",
    "    # get solution\n",
    "    sol = solvers.qp(P,Q,G,h,A,b)\n",
    "    \n",
    "    return np.asmatrix([i for i in sol['x']])"
   ]
  },
  {
   "cell_type": "code",
   "execution_count": 13,
   "metadata": {
    "collapsed": true
   },
   "outputs": [],
   "source": [
    "alpha2range=np.arange(1,500)\n",
    "def iterativeSelectionProcess(returns,w_opt_list=None,tolerance=0.05,alpha2range=np.arange(1,500)):\n",
    "    \n",
    "    if w_opt_list is None: \n",
    "        w_opt_list =  [getSolutionMkw(returns,alpha_2=a2) for a2 in alpha2range]\n",
    "    \n",
    "    save_sum = []\n",
    "    for i in w_opt_list:\n",
    "        temp = [i[0,j] for j in range(np.shape(i)[1])]\n",
    "        save_sum = (save_sum + np.array(temp)) if len(save_sum)!=0 else np.array(temp)\n",
    "\n",
    "    selection = pd.DataFrame(save_sum).apply(lambda x: x>tolerance).values\n",
    "    cont = len(selection) - np.sum(selection)\n",
    "    selection = [j for i,j in zip(selection,returns.columns) if i]\n",
    "    return returns[selection],cont,save_sum"
   ]
  },
  {
   "cell_type": "code",
   "execution_count": 16,
   "metadata": {
    "collapsed": true
   },
   "outputs": [],
   "source": [
    "condition = True\n",
    "w_opt_list = None \n",
    "while(condition):\n",
    "    returns, cond, ss = iterativeSelectionProcess(returns,w_opt_list,tolerance=0.05*500)\n",
    "    w_opt_list = [getSolutionMkw(returns,alpha_2=a2) for a2 in np.arange(1,500)]\n",
    "    condition = False if cond == 0 else condition"
   ]
  },
  {
   "cell_type": "code",
   "execution_count": 17,
   "metadata": {
    "collapsed": true
   },
   "outputs": [],
   "source": [
    "def randomPortfolio(returns):\n",
    "    w = np.asmatrix(np.random.dirichlet(np.ones(returns.shape[1]),size=1)[0])#np.asmatrix(randomProp(returns.shape[1]))\n",
    "    rp = w.dot(np.asmatrix(returns.mean().values).T)\n",
    "    rp = np.asscalar(rp)\n",
    "    \n",
    "    varp = w.dot(np.asmatrix(returns.cov().values)).dot(w.T)\n",
    "    varp = np.asscalar(varp)\n",
    "    \n",
    "    return rp, np.sqrt(varp)\n",
    "\n",
    "def generateMultiplePortfolios(m,returns):\n",
    "    results = {'rp':[],'std':[]}\n",
    "    \n",
    "    for i in range(m):\n",
    "        temp = randomPortfolio(returns)\n",
    "        results['rp'].append(100*temp[0])\n",
    "        results['std'].append(100*temp[1])\n",
    "        \n",
    "    return pd.DataFrame(results)\n",
    "\n",
    "def calculatePortfolio(w,returns):\n",
    "    rp = w.dot(np.asmatrix(returns.mean().values).T)\n",
    "    rp = np.asscalar(rp)\n",
    "    \n",
    "    varp = w.dot(np.asmatrix(returns.cov().values)).dot(w.T)\n",
    "    varp = np.asscalar(varp)\n",
    "    \n",
    "    return 100*rp, 100*np.sqrt(varp)"
   ]
  },
  {
   "cell_type": "code",
   "execution_count": 32,
   "metadata": {
    "collapsed": true
   },
   "outputs": [],
   "source": [
    "# Simulate random portfolio \n",
    "\n",
    "portfolios = generateMultiplePortfolios(8000,returns)\n"
   ]
  },
  {
   "cell_type": "code",
   "execution_count": 33,
   "metadata": {
    "collapsed": true
   },
   "outputs": [],
   "source": [
    "# Generate Efficient Curve portfolio\n",
    "\n",
    "port_opt = []\n",
    "for i in w_opt_list:\n",
    "    port_opt.append(calculatePortfolio(i,returns))\n",
    "    \n",
    "port_opt = pd.DataFrame(port_opt)"
   ]
  },
  {
   "cell_type": "code",
   "execution_count": 34,
   "metadata": {
    "collapsed": true
   },
   "outputs": [],
   "source": [
    "port_opt.index = alpha2range"
   ]
  },
  {
   "cell_type": "code",
   "execution_count": 35,
   "metadata": {
    "collapsed": false
   },
   "outputs": [
    {
     "data": {
      "image/png": "[encoded data removed]",
      "text/plain": [
       "<matplotlib.figure.Figure at 0x7f2709f00080>"
      ]
     },
     "metadata": {},
     "output_type": "display_data"
    }
   ],
   "source": [
    "# Plot \n",
    "\n",
    "\n",
    "# all portfolios \n",
    "portfolios.plot(kind='scatter',x='std',y='rp',grid=True)\n",
    "\n",
    "# efficient portfolio frontier\n",
    "plt.plot(port_opt[1],port_opt[0],'r-')\n",
    "\n",
    "# more risk and returns \n",
    "plt.plot(port_opt[1].iloc[0],port_opt[0].iloc[0],'go')\n",
    "\n",
    "# least risk and returns \n",
    "plt.plot(port_opt[1].iloc[-1],port_opt[0].iloc[-1],'yo')\n",
    "\n",
    "# aesthetics... \n",
    "plt.title('Markowitz')\n",
    "plt.show()"
   ]
  },
  {
   "cell_type": "code",
   "execution_count": 49,
   "metadata": {
    "collapsed": false
   },
   "outputs": [
    {
     "data": {
      "text/plain": [
       "0    0.072508\n",
       "1    0.602603\n",
       "Name: 499, dtype: float64"
      ]
     },
     "execution_count": 49,
     "metadata": {},
     "output_type": "execute_result"
    }
   ],
   "source": [
    "port_opt.iloc[-1]"
   ]
  },
  {
   "cell_type": "code",
   "execution_count": 78,
   "metadata": {
    "collapsed": false
   },
   "outputs": [
    {
     "data": {
      "text/html": [
       "<div>\n",
       "<table border=\"1\" class=\"dataframe\">\n",
       "  <thead>\n",
       "    <tr style=\"text-align: right;\">\n",
       "      <th></th>\n",
       "      <th>0</th>\n",
       "    </tr>\n",
       "  </thead>\n",
       "  <tbody>\n",
       "    <tr>\n",
       "      <th>0</th>\n",
       "      <td>99.985617</td>\n",
       "    </tr>\n",
       "    <tr>\n",
       "      <th>1</th>\n",
       "      <td>0.000552</td>\n",
       "    </tr>\n",
       "    <tr>\n",
       "      <th>2</th>\n",
       "      <td>0.012605</td>\n",
       "    </tr>\n",
       "    <tr>\n",
       "      <th>3</th>\n",
       "      <td>0.001040</td>\n",
       "    </tr>\n",
       "    <tr>\n",
       "      <th>4</th>\n",
       "      <td>0.000185</td>\n",
       "    </tr>\n",
       "  </tbody>\n",
       "</table>\n",
       "</div>"
      ],
      "text/plain": [
       "           0\n",
       "0  99.985617\n",
       "1   0.000552\n",
       "2   0.012605\n",
       "3   0.001040\n",
       "4   0.000185"
      ]
     },
     "execution_count": 78,
     "metadata": {},
     "output_type": "execute_result"
    }
   ],
   "source": [
    "# Select final portfolio \n",
    "\n",
    "w_opt = np.asarray(w_opt_list[0]).reshape(-1)\n",
    "pd.DataFrame(100*w_opt)"
   ]
  },
  {
   "cell_type": "markdown",
   "metadata": {},
   "source": [
    "## Trade in App"
   ]
  },
  {
   "cell_type": "code",
   "execution_count": 79,
   "metadata": {
    "collapsed": true
   },
   "outputs": [],
   "source": [
    "initial_cash = 2000000 - 10000"
   ]
  },
  {
   "cell_type": "code",
   "execution_count": 83,
   "metadata": {
    "collapsed": false
   },
   "outputs": [
    {
     "name": "stdout",
     "output_type": "stream",
     "text": [
      "\n",
      "Name: GMEXICO.B\n",
      ">> Weight: 99.9856%\n",
      ">> Stocks: 33576 \n",
      "\n",
      "Name: GRUMA.B\n",
      ">> Weight: 0.0006%\n",
      ">> Stocks: 0 \n",
      "\n",
      "Name: ICH.B\n",
      ">> Weight: 0.0126%\n",
      ">> Stocks: 3 \n",
      "\n",
      "Name: IENOVA\n",
      ">> Weight: 0.0010%\n",
      ">> Stocks: 0 \n",
      "\n",
      "Name: TLEVISA.CPO\n",
      ">> Weight: 0.0002%\n",
      ">> Stocks: 0 \n"
     ]
    }
   ],
   "source": [
    "cash = []\n",
    "nstocks = []\n",
    "for w,n in zip(w_opt,list(returns.columns)):\n",
    "    \n",
    "    p = prices[n].iloc[-1]\n",
    "    cash.append(initial_cash*w)\n",
    "    nstocks.append(int(cash[-1]/p))\n",
    "    \n",
    "    print('\\nName: {}\\n>> Weight: {:0.4f}%\\n>> Stocks: {} '.format(n,100*w,nstocks[-1]))"
   ]
  },
  {
   "cell_type": "code",
   "execution_count": null,
   "metadata": {
    "collapsed": false
   },
   "outputs": [],
   "source": []
  },
  {
   "cell_type": "code",
   "execution_count": 51,
   "metadata": {
    "collapsed": false
   },
   "outputs": [],
   "source": [
    "# Open the trading session \n",
    "ts = TradingSession(user='xd8877',pw='Mexico0r',alias='StaticMarkowitz')\n",
    "time.sleep(5)"
   ]
  },
  {
   "cell_type": "code",
   "execution_count": 93,
   "metadata": {
    "collapsed": true
   },
   "outputs": [],
   "source": [
    "def recursiveOperation(w,s):\n",
    "    try:\n",
    "        ts.performOperation(nature='compra',stock='{}'.format(w),number=int(s),price='mercado')\n",
    "        return 1\n",
    "    except:\n",
    "        time.sleep(1)\n",
    "        return recursiveOperation(w,s)"
   ]
  },
  {
   "cell_type": "code",
   "execution_count": 94,
   "metadata": {
    "collapsed": false
   },
   "outputs": [
    {
     "name": "stdout",
     "output_type": "stream",
     "text": [
      "\n",
      "Investing in: GMEXICO.B\n",
      "Done!\n",
      "\n",
      "Investing in: ICH.B\n",
      "Done!\n"
     ]
    }
   ],
   "source": [
    "_id = 0\n",
    "recorded = []\n",
    "for w,s in zip(list(returns.columns),nstocks):\n",
    "    \n",
    "    if s == 0:\n",
    "        continue\n",
    "    \n",
    "    print('\\nInvesting in: {}'.format(w))\n",
    "    # fill and submit\n",
    "    try: \n",
    "        ts.performOperation(nature='compra',stock='{}'.format(w),number=int(s),price='mercado')\n",
    "    except:\n",
    "        print('>> Entering recursive download.')\n",
    "        recursiveOperation(w,s)\n",
    "    \n",
    "    # take screenshow\n",
    "    file_name = '{}_{}_{}'.format(dt.datetime.strftime(dt.datetime.today(),'%Y%m%d_%Hh%Mm%Ss'),w,_id)\n",
    "    file_path = '/screenshots/{}.png'.format(file_name)\n",
    "    ts.browser.get_screenshot_as_file(file_path)\n",
    "    ts.browser.save_screenshot(file_path)\n",
    "    _id += 1\n",
    "    \n",
    "    # accept\n",
    "    time.sleep(4)\n",
    "    try:\n",
    "        ts.browser.find_element_by_xpath('//a[@id=\"btn-aceptar\"]').click()\n",
    "    except:\n",
    "        continue\n",
    "        \n",
    "    recorded.append((w,s))\n",
    "    print('Done!')"
   ]
  },
  {
   "cell_type": "code",
   "execution_count": 11,
   "metadata": {
    "collapsed": true
   },
   "outputs": [],
   "source": [
    "#ts = TradingSession(user='sd8892',pw='Mexico0r',alias='Trading Session')\n",
    "#time.sleep(5)"
   ]
  },
  {
   "cell_type": "code",
   "execution_count": null,
   "metadata": {
    "collapsed": true
   },
   "outputs": [],
   "source": [
    "for w,s in zip(list(returns.columns),nstocks):\n",
    "    if w in [i[0] for i in recorded]:\n",
    "        continue\n",
    "        \n",
    "    print('\\nInvesting in: {}'.format(w))\n",
    "    # fill and submit\n",
    "    try: \n",
    "        ts.performOperation(nature='compra',stock='{}'.format(w),number=int(s),price='mercado')\n",
    "    except:\n",
    "        print('>> Entering recursive download.')\n",
    "        recursiveOperation(w,s)\n",
    "    \n",
    "    # take screenshow\n",
    "    file_name = '{}_{}_{}'.format(dt.datetime.strftime(dt.datetime.today(),'%Y%m%d_%Hh%Mm%Ss'),w,_id)\n",
    "    file_path = '/screenshots/{}.png'.format(file_name)\n",
    "    ts.browser.get_screenshot_as_file(file_path)\n",
    "    ts.browser.save_screenshot(file_path)\n",
    "    _id += 1\n",
    "    \n",
    "    # accept\n",
    "    time.sleep(4)\n",
    "    try:\n",
    "        ts.browser.find_element_by_xpath('//a[@id=\"btn-aceptar\"]').click()\n",
    "    except:\n",
    "        continue\n",
    "        \n",
    "    recorded.append((w,s))\n",
    "    print('Done!')"
   ]
  },
  {
   "cell_type": "code",
   "execution_count": 96,
   "metadata": {
    "collapsed": true
   },
   "outputs": [],
   "source": [
    "ts.close()"
   ]
  },
  {
   "cell_type": "code",
   "execution_count": null,
   "metadata": {
    "collapsed": true
   },
   "outputs": [],
   "source": []
  },
  {
   "cell_type": "code",
   "execution_count": 95,
   "metadata": {
    "collapsed": false
   },
   "outputs": [
    {
     "data": {
      "text/plain": [
       "[('GMEXICO.B', 33576),\n",
       " ('GRUMA.B', 0),\n",
       " ('ICH.B', 3),\n",
       " ('IENOVA', 0),\n",
       " ('TLEVISA.CPO', 0)]"
      ]
     },
     "execution_count": 95,
     "metadata": {},
     "output_type": "execute_result"
    }
   ],
   "source": [
    "list(zip(list(returns.columns),nstocks))"
   ]
  },
  {
   "cell_type": "code",
   "execution_count": null,
   "metadata": {
    "collapsed": true
   },
   "outputs": [],
   "source": []
  },
  {
   "cell_type": "code",
   "execution_count": null,
   "metadata": {
    "collapsed": true
   },
   "outputs": [],
   "source": []
  },
  {
   "cell_type": "markdown",
   "metadata": {
    "collapsed": true
   },
   "source": [
    "## Save portfolio value"
   ]
  },
  {
   "cell_type": "code",
   "execution_count": 13,
   "metadata": {
    "collapsed": true
   },
   "outputs": [],
   "source": [
    "value = ts.browser.find_element_by_xpath('//span[@class=\"float_right\"]').text"
   ]
  },
  {
   "cell_type": "code",
   "execution_count": 14,
   "metadata": {
    "collapsed": true
   },
   "outputs": [],
   "source": [
    "date = dt.datetime.strftime(dt.datetime.now(),'%Y/%m/%d')"
   ]
  },
  {
   "cell_type": "code",
   "execution_count": 15,
   "metadata": {
    "collapsed": true
   },
   "outputs": [],
   "source": [
    "np.save('marko_value.npy',{1:{'date':date,'value':value}})"
   ]
  },
  {
   "cell_type": "code",
   "execution_count": 16,
   "metadata": {
    "collapsed": false
   },
   "outputs": [
    {
     "data": {
      "text/plain": [
       "{1: {'date': '2017/03/15', 'value': '$ 2,030,345.62'}}"
      ]
     },
     "execution_count": 16,
     "metadata": {},
     "output_type": "execute_result"
    }
   ],
   "source": [
    "np.load('marko_value.npy').item()"
   ]
  },
  {
   "cell_type": "code",
   "execution_count": 17,
   "metadata": {
    "collapsed": false
   },
   "outputs": [
    {
     "data": {
      "text/plain": [
       "'$ 2,030,345.62'"
      ]
     },
     "execution_count": 17,
     "metadata": {},
     "output_type": "execute_result"
    }
   ],
   "source": [
    "value"
   ]
  },
  {
   "cell_type": "code",
   "execution_count": 18,
   "metadata": {
    "collapsed": false
   },
   "outputs": [
    {
     "data": {
      "text/plain": [
       "'2017/03/15'"
      ]
     },
     "execution_count": 18,
     "metadata": {},
     "output_type": "execute_result"
    }
   ],
   "source": [
    "date"
   ]
  },
  {
   "cell_type": "markdown",
   "metadata": {
    "collapsed": true
   },
   "source": [
    "## Value "
   ]
  },
  {
   "cell_type": "code",
   "execution_count": 45,
   "metadata": {
    "collapsed": false
   },
   "outputs": [],
   "source": [
    "% matplotlib inline\n",
    "import numpy as np\n",
    "import pandas as pd\n",
    "import datetime as dt\n",
    "import matplotlib.pyplot as plt"
   ]
  },
  {
   "cell_type": "code",
   "execution_count": 7,
   "metadata": {
    "collapsed": true
   },
   "outputs": [],
   "source": [
    "log = np.load('marko_value.npy').item()"
   ]
  },
  {
   "cell_type": "code",
   "execution_count": 8,
   "metadata": {
    "collapsed": false
   },
   "outputs": [],
   "source": [
    "date = []\n",
    "val  = []\n",
    "for k in log:\n",
    "    date.append(log[k]['date'])\n",
    "    val.append(log[k]['value'])"
   ]
  },
  {
   "cell_type": "code",
   "execution_count": 40,
   "metadata": {
    "collapsed": true
   },
   "outputs": [],
   "source": [
    "def str2float(string):\n",
    "    return np.float(''.join([i for i in string.strip('$').strip(' ') if i != ',']))\n",
    "\n",
    "def str2date(string):\n",
    "    return dt.datetime.strptime(string,'%Y/%m/%d')"
   ]
  },
  {
   "cell_type": "code",
   "execution_count": 53,
   "metadata": {
    "collapsed": false
   },
   "outputs": [
    {
     "data": {
      "text/html": [
       "<div>\n",
       "<table border=\"1\" class=\"dataframe\">\n",
       "  <thead>\n",
       "    <tr style=\"text-align: right;\">\n",
       "      <th></th>\n",
       "      <th>Date</th>\n",
       "      <th>Value</th>\n",
       "    </tr>\n",
       "  </thead>\n",
       "  <tbody>\n",
       "    <tr>\n",
       "      <th>0</th>\n",
       "      <td>2017-03-14</td>\n",
       "      <td>2000000.00</td>\n",
       "    </tr>\n",
       "    <tr>\n",
       "      <th>1</th>\n",
       "      <td>2017-03-15</td>\n",
       "      <td>2030345.62</td>\n",
       "    </tr>\n",
       "    <tr>\n",
       "      <th>2</th>\n",
       "      <td>2017-03-16</td>\n",
       "      <td>2003171.50</td>\n",
       "    </tr>\n",
       "    <tr>\n",
       "      <th>3</th>\n",
       "      <td>2017-03-20</td>\n",
       "      <td>2007188.38</td>\n",
       "    </tr>\n",
       "    <tr>\n",
       "      <th>4</th>\n",
       "      <td>2017-03-20</td>\n",
       "      <td>2007188.38</td>\n",
       "    </tr>\n",
       "    <tr>\n",
       "      <th>5</th>\n",
       "      <td>2017-03-22</td>\n",
       "      <td>2022969.38</td>\n",
       "    </tr>\n",
       "  </tbody>\n",
       "</table>\n",
       "</div>"
      ],
      "text/plain": [
       "        Date       Value\n",
       "0 2017-03-14  2000000.00\n",
       "1 2017-03-15  2030345.62\n",
       "2 2017-03-16  2003171.50\n",
       "3 2017-03-20  2007188.38\n",
       "4 2017-03-20  2007188.38\n",
       "5 2017-03-22  2022969.38"
      ]
     },
     "execution_count": 53,
     "metadata": {},
     "output_type": "execute_result"
    }
   ],
   "source": [
    "df = pd.DataFrame({'Date':list(map(str2date,['2017/03/14']+date)),'Value':list(map(str2float,['2000000']+val))})\n",
    "df"
   ]
  },
  {
   "cell_type": "code",
   "execution_count": 54,
   "metadata": {
    "collapsed": false
   },
   "outputs": [
    {
     "data": {
      "text/plain": [
       "<matplotlib.text.Text at 0x7ff29ef9af98>"
      ]
     },
     "execution_count": 54,
     "metadata": {},
     "output_type": "execute_result"
    },
    {
     "data": {
      "image/png": "[encoded data removed]",
      "text/plain": [
       "<matplotlib.figure.Figure at 0x7ff29ef61a90>"
      ]
     },
     "metadata": {},
     "output_type": "display_data"
    }
   ],
   "source": [
    "df.plot(x='Date',y='Value',legend=False)\n",
    "plt.grid(True)\n",
    "plt.title('Portfolio Value\\n last_recorded: {}'.format(df.Value.iloc[-1]))"
   ]
  },
  {
   "cell_type": "code",
   "execution_count": null,
   "metadata": {
    "collapsed": true
   },
   "outputs": [],
   "source": []
  }
 ],
 "metadata": {
  "anaconda-cloud": {},
  "kernelspec": {
   "display_name": "Python [default]",
   "language": "python",
   "name": "python3"
  },
  "language_info": {
   "codemirror_mode": {
    "name": "ipython",
    "version": 3
   },
   "file_extension": ".py",
   "mimetype": "text/x-python",
   "name": "python",
   "nbconvert_exporter": "python",
   "pygments_lexer": "ipython3",
   "version": "3.5.2"
  }
 },
 "nbformat": 4,
 "nbformat_minor": 1
}
